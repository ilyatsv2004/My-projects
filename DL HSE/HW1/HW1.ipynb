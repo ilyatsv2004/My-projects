{
 "cells": [
  {
   "attachments": {},
   "cell_type": "markdown",
   "metadata": {
    "id": "Q_upCOEI3Upu"
   },
   "source": [
    "# Основы глубинного обучения, майнор ИАД\n",
    "\n",
    "## Домашнее задание 1. Введение в PyTorch. Полносвязные нейронные сети.\n",
    "\n",
    "### Общая информация\n",
    "\n",
    "Дата выдачи: 01.10.2023\n",
    "\n",
    "Мягкий дедлайн: 23:59MSK 15.10.2023\n",
    "\n",
    "Жесткий дедлайн: 23:59MSK 20.10.2023\n",
    "\n",
    "### Оценивание и штрафы\n",
    "Максимально допустимая оценка за работу — 10 баллов. За каждый день просрочки снимается 1 балл. Сдавать задание после жёсткого дедлайна сдачи нельзя.\n",
    "\n",
    "Задание выполняется самостоятельно. «Похожие» решения считаются плагиатом и все задействованные студенты (в том числе те, у кого списали) не могут получить за него больше 0 баллов. Если вы нашли решение какого-то из заданий (или его часть) в открытом источнике, необходимо указать ссылку на этот источник в отдельном блоке в конце вашей работы (скорее всего вы будете не единственным, кто это нашел, поэтому чтобы исключить подозрение в плагиате, необходима ссылка на источник).\n",
    "\n",
    "Неэффективная реализация кода может негативно отразиться на оценке.\n",
    "Также оценка может быть снижена за плохо читаемый код и плохо оформленные графики. Все ответы должны сопровождаться кодом или комментариями о том, как они были получены.\n",
    "\n",
    "Итогова оценка считается как\n",
    "$$\n",
    "min(task_1, task_2)*0.8 + max(task_1, task_2)*0.2\n",
    "$$\n",
    "\n",
    "где task_1 и task_2 - оценки за первое и второе заданиее соответсвенно.\n",
    "Также, за домашнее задание выставляется 0, если не сделано нулевое или третье задание.\n",
    "### О задании\n",
    "\n",
    "В этом задании вам предстоит предсказывать год выпуска песни (**задача регрессии**) по некоторым звуковым признакам: [данные](https://archive.ics.uci.edu/ml/datasets/yearpredictionmsd). В ячейках ниже находится код для загрузки данных. Обратите внимание, что обучающая и тестовая выборки располагаются в одном файле, поэтому НЕ меняйте ячейку, в которой производится деление данных."
   ]
  },
  {
   "cell_type": "code",
   "execution_count": 2,
   "metadata": {},
   "outputs": [
    {
     "name": "stdout",
     "output_type": "stream",
     "text": [
      "Note: you may need to restart the kernel to use updated packages.\n"
     ]
    }
   ],
   "source": [
    "pip install torch -q"
   ]
  },
  {
   "cell_type": "code",
   "execution_count": 1,
   "metadata": {
    "id": "RI_eoe063VaP"
   },
   "outputs": [],
   "source": [
    "import torch\n",
    "from torch import nn\n",
    "import torch.nn.functional as F\n",
    "import pandas as pd\n",
    "import numpy as np\n",
    "import random\n",
    "device = \"cuda\" if torch.cuda.is_available() else \"cpu\"\n",
    "from tqdm.notebook import tqdm\n",
    "from IPython.display import clear_output\n",
    "import matplotlib.pyplot as plt"
   ]
  },
  {
   "cell_type": "code",
   "execution_count": 2,
   "metadata": {
    "colab": {
     "base_uri": "https://localhost:8080/"
    },
    "id": "7NgSZeU-7vgj",
    "outputId": "bf328cf3-2c32-4f57-fcca-b3801412e2d6"
   },
   "outputs": [
    {
     "data": {
      "text/html": [
       "<div>\n",
       "<style scoped>\n",
       "    .dataframe tbody tr th:only-of-type {\n",
       "        vertical-align: middle;\n",
       "    }\n",
       "\n",
       "    .dataframe tbody tr th {\n",
       "        vertical-align: top;\n",
       "    }\n",
       "\n",
       "    .dataframe thead th {\n",
       "        text-align: right;\n",
       "    }\n",
       "</style>\n",
       "<table border=\"1\" class=\"dataframe\">\n",
       "  <thead>\n",
       "    <tr style=\"text-align: right;\">\n",
       "      <th></th>\n",
       "      <th>2001</th>\n",
       "      <th>49.94357</th>\n",
       "      <th>21.47114</th>\n",
       "      <th>73.07750</th>\n",
       "      <th>8.74861</th>\n",
       "      <th>-17.40628</th>\n",
       "      <th>-13.09905</th>\n",
       "      <th>-25.01202</th>\n",
       "      <th>-12.23257</th>\n",
       "      <th>7.83089</th>\n",
       "      <th>...</th>\n",
       "      <th>13.01620</th>\n",
       "      <th>-54.40548</th>\n",
       "      <th>58.99367</th>\n",
       "      <th>15.37344</th>\n",
       "      <th>1.11144</th>\n",
       "      <th>-23.08793</th>\n",
       "      <th>68.40795</th>\n",
       "      <th>-1.82223</th>\n",
       "      <th>-27.46348</th>\n",
       "      <th>2.26327</th>\n",
       "    </tr>\n",
       "  </thead>\n",
       "  <tbody>\n",
       "    <tr>\n",
       "      <th>0</th>\n",
       "      <td>2001</td>\n",
       "      <td>48.73215</td>\n",
       "      <td>18.42930</td>\n",
       "      <td>70.32679</td>\n",
       "      <td>12.94636</td>\n",
       "      <td>-10.32437</td>\n",
       "      <td>-24.83777</td>\n",
       "      <td>8.76630</td>\n",
       "      <td>-0.92019</td>\n",
       "      <td>18.76548</td>\n",
       "      <td>...</td>\n",
       "      <td>5.66812</td>\n",
       "      <td>-19.68073</td>\n",
       "      <td>33.04964</td>\n",
       "      <td>42.87836</td>\n",
       "      <td>-9.90378</td>\n",
       "      <td>-32.22788</td>\n",
       "      <td>70.49388</td>\n",
       "      <td>12.04941</td>\n",
       "      <td>58.43453</td>\n",
       "      <td>26.92061</td>\n",
       "    </tr>\n",
       "    <tr>\n",
       "      <th>1</th>\n",
       "      <td>2001</td>\n",
       "      <td>50.95714</td>\n",
       "      <td>31.85602</td>\n",
       "      <td>55.81851</td>\n",
       "      <td>13.41693</td>\n",
       "      <td>-6.57898</td>\n",
       "      <td>-18.54940</td>\n",
       "      <td>-3.27872</td>\n",
       "      <td>-2.35035</td>\n",
       "      <td>16.07017</td>\n",
       "      <td>...</td>\n",
       "      <td>3.03800</td>\n",
       "      <td>26.05866</td>\n",
       "      <td>-50.92779</td>\n",
       "      <td>10.93792</td>\n",
       "      <td>-0.07568</td>\n",
       "      <td>43.20130</td>\n",
       "      <td>-115.00698</td>\n",
       "      <td>-0.05859</td>\n",
       "      <td>39.67068</td>\n",
       "      <td>-0.66345</td>\n",
       "    </tr>\n",
       "    <tr>\n",
       "      <th>2</th>\n",
       "      <td>2001</td>\n",
       "      <td>48.24750</td>\n",
       "      <td>-1.89837</td>\n",
       "      <td>36.29772</td>\n",
       "      <td>2.58776</td>\n",
       "      <td>0.97170</td>\n",
       "      <td>-26.21683</td>\n",
       "      <td>5.05097</td>\n",
       "      <td>-10.34124</td>\n",
       "      <td>3.55005</td>\n",
       "      <td>...</td>\n",
       "      <td>34.57337</td>\n",
       "      <td>-171.70734</td>\n",
       "      <td>-16.96705</td>\n",
       "      <td>-46.67617</td>\n",
       "      <td>-12.51516</td>\n",
       "      <td>82.58061</td>\n",
       "      <td>-72.08993</td>\n",
       "      <td>9.90558</td>\n",
       "      <td>199.62971</td>\n",
       "      <td>18.85382</td>\n",
       "    </tr>\n",
       "    <tr>\n",
       "      <th>3</th>\n",
       "      <td>2001</td>\n",
       "      <td>50.97020</td>\n",
       "      <td>42.20998</td>\n",
       "      <td>67.09964</td>\n",
       "      <td>8.46791</td>\n",
       "      <td>-15.85279</td>\n",
       "      <td>-16.81409</td>\n",
       "      <td>-12.48207</td>\n",
       "      <td>-9.37636</td>\n",
       "      <td>12.63699</td>\n",
       "      <td>...</td>\n",
       "      <td>9.92661</td>\n",
       "      <td>-55.95724</td>\n",
       "      <td>64.92712</td>\n",
       "      <td>-17.72522</td>\n",
       "      <td>-1.49237</td>\n",
       "      <td>-7.50035</td>\n",
       "      <td>51.76631</td>\n",
       "      <td>7.88713</td>\n",
       "      <td>55.66926</td>\n",
       "      <td>28.74903</td>\n",
       "    </tr>\n",
       "    <tr>\n",
       "      <th>4</th>\n",
       "      <td>2001</td>\n",
       "      <td>50.54767</td>\n",
       "      <td>0.31568</td>\n",
       "      <td>92.35066</td>\n",
       "      <td>22.38696</td>\n",
       "      <td>-25.51870</td>\n",
       "      <td>-19.04928</td>\n",
       "      <td>20.67345</td>\n",
       "      <td>-5.19943</td>\n",
       "      <td>3.63566</td>\n",
       "      <td>...</td>\n",
       "      <td>6.59753</td>\n",
       "      <td>-50.69577</td>\n",
       "      <td>26.02574</td>\n",
       "      <td>18.94430</td>\n",
       "      <td>-0.33730</td>\n",
       "      <td>6.09352</td>\n",
       "      <td>35.18381</td>\n",
       "      <td>5.00283</td>\n",
       "      <td>-11.02257</td>\n",
       "      <td>0.02263</td>\n",
       "    </tr>\n",
       "  </tbody>\n",
       "</table>\n",
       "<p>5 rows × 91 columns</p>\n",
       "</div>"
      ],
      "text/plain": [
       "   2001  49.94357  21.47114  73.07750   8.74861  -17.40628  -13.09905  \\\n",
       "0  2001  48.73215  18.42930  70.32679  12.94636  -10.32437  -24.83777   \n",
       "1  2001  50.95714  31.85602  55.81851  13.41693   -6.57898  -18.54940   \n",
       "2  2001  48.24750  -1.89837  36.29772   2.58776    0.97170  -26.21683   \n",
       "3  2001  50.97020  42.20998  67.09964   8.46791  -15.85279  -16.81409   \n",
       "4  2001  50.54767   0.31568  92.35066  22.38696  -25.51870  -19.04928   \n",
       "\n",
       "   -25.01202  -12.23257   7.83089  ...  13.01620  -54.40548  58.99367  \\\n",
       "0    8.76630   -0.92019  18.76548  ...   5.66812  -19.68073  33.04964   \n",
       "1   -3.27872   -2.35035  16.07017  ...   3.03800   26.05866 -50.92779   \n",
       "2    5.05097  -10.34124   3.55005  ...  34.57337 -171.70734 -16.96705   \n",
       "3  -12.48207   -9.37636  12.63699  ...   9.92661  -55.95724  64.92712   \n",
       "4   20.67345   -5.19943   3.63566  ...   6.59753  -50.69577  26.02574   \n",
       "\n",
       "   15.37344   1.11144  -23.08793   68.40795  -1.82223  -27.46348   2.26327  \n",
       "0  42.87836  -9.90378  -32.22788   70.49388  12.04941   58.43453  26.92061  \n",
       "1  10.93792  -0.07568   43.20130 -115.00698  -0.05859   39.67068  -0.66345  \n",
       "2 -46.67617 -12.51516   82.58061  -72.08993   9.90558  199.62971  18.85382  \n",
       "3 -17.72522  -1.49237   -7.50035   51.76631   7.88713   55.66926  28.74903  \n",
       "4  18.94430  -0.33730    6.09352   35.18381   5.00283  -11.02257   0.02263  \n",
       "\n",
       "[5 rows x 91 columns]"
      ]
     },
     "execution_count": 2,
     "metadata": {},
     "output_type": "execute_result"
    }
   ],
   "source": [
    "df=pd.read_csv('YearPredictionMSD.txt')\n",
    "df.head()"
   ]
  },
  {
   "attachments": {},
   "cell_type": "markdown",
   "metadata": {
    "id": "N9a-eJUG35C3"
   },
   "source": [
    "Мы вывели кусок данных, чтобы понять, насколько они пригодны для работы без изменений. Здесь ясно, что сомнительно дальше с такими данными работать, потому что как минимум есть отрицательные значения, которые не отмасштабированы, кроме того еще сразу бросается в глаза совсем разная размерность, где-то видим реально большие числа, а где-то 0.075. Ясно, что будем скейлить."
   ]
  },
  {
   "cell_type": "code",
   "execution_count": 3,
   "metadata": {
    "id": "n4wnRJT1778j"
   },
   "outputs": [],
   "source": [
    "X = df.iloc[:, 1:].values\n",
    "y = df.iloc[:, 0].values\n",
    "\n",
    "train_size = 463715\n",
    "X_train = X[:train_size, :]\n",
    "y_train = y[:train_size]\n",
    "X_test = X[train_size:, :]\n",
    "y_test = y[train_size:]"
   ]
  },
  {
   "cell_type": "code",
   "execution_count": 175,
   "metadata": {},
   "outputs": [
    {
     "data": {
      "text/html": [
       "<div>\n",
       "<style scoped>\n",
       "    .dataframe tbody tr th:only-of-type {\n",
       "        vertical-align: middle;\n",
       "    }\n",
       "\n",
       "    .dataframe tbody tr th {\n",
       "        vertical-align: top;\n",
       "    }\n",
       "\n",
       "    .dataframe thead th {\n",
       "        text-align: right;\n",
       "    }\n",
       "</style>\n",
       "<table border=\"1\" class=\"dataframe\">\n",
       "  <thead>\n",
       "    <tr style=\"text-align: right;\">\n",
       "      <th></th>\n",
       "      <th>2001</th>\n",
       "      <th>49.94357</th>\n",
       "      <th>21.47114</th>\n",
       "      <th>73.07750</th>\n",
       "      <th>8.74861</th>\n",
       "      <th>-17.40628</th>\n",
       "      <th>-13.09905</th>\n",
       "      <th>-25.01202</th>\n",
       "      <th>-12.23257</th>\n",
       "      <th>7.83089</th>\n",
       "      <th>...</th>\n",
       "      <th>13.01620</th>\n",
       "      <th>-54.40548</th>\n",
       "      <th>58.99367</th>\n",
       "      <th>15.37344</th>\n",
       "      <th>1.11144</th>\n",
       "      <th>-23.08793</th>\n",
       "      <th>68.40795</th>\n",
       "      <th>-1.82223</th>\n",
       "      <th>-27.46348</th>\n",
       "      <th>2.26327</th>\n",
       "    </tr>\n",
       "  </thead>\n",
       "  <tbody>\n",
       "    <tr>\n",
       "      <th>count</th>\n",
       "      <td>515344.000000</td>\n",
       "      <td>515344.000000</td>\n",
       "      <td>515344.000000</td>\n",
       "      <td>515344.000000</td>\n",
       "      <td>515344.000000</td>\n",
       "      <td>515344.000000</td>\n",
       "      <td>515344.000000</td>\n",
       "      <td>515344.000000</td>\n",
       "      <td>515344.000000</td>\n",
       "      <td>515344.000000</td>\n",
       "      <td>...</td>\n",
       "      <td>515344.000000</td>\n",
       "      <td>515344.000000</td>\n",
       "      <td>515344.000000</td>\n",
       "      <td>515344.000000</td>\n",
       "      <td>515344.000000</td>\n",
       "      <td>515344.000000</td>\n",
       "      <td>515344.000000</td>\n",
       "      <td>515344.000000</td>\n",
       "      <td>515344.000000</td>\n",
       "      <td>515344.000000</td>\n",
       "    </tr>\n",
       "    <tr>\n",
       "      <th>mean</th>\n",
       "      <td>1998.397077</td>\n",
       "      <td>43.387113</td>\n",
       "      <td>1.289515</td>\n",
       "      <td>8.658222</td>\n",
       "      <td>1.164110</td>\n",
       "      <td>-6.553580</td>\n",
       "      <td>-9.521968</td>\n",
       "      <td>-2.391046</td>\n",
       "      <td>-1.793215</td>\n",
       "      <td>3.727868</td>\n",
       "      <td>...</td>\n",
       "      <td>15.755411</td>\n",
       "      <td>-73.461537</td>\n",
       "      <td>41.542388</td>\n",
       "      <td>37.934163</td>\n",
       "      <td>0.315750</td>\n",
       "      <td>17.669292</td>\n",
       "      <td>-26.315520</td>\n",
       "      <td>4.458653</td>\n",
       "      <td>20.035229</td>\n",
       "      <td>1.329104</td>\n",
       "    </tr>\n",
       "    <tr>\n",
       "      <th>std</th>\n",
       "      <td>10.931056</td>\n",
       "      <td>6.067557</td>\n",
       "      <td>51.580393</td>\n",
       "      <td>35.268505</td>\n",
       "      <td>16.322802</td>\n",
       "      <td>22.860803</td>\n",
       "      <td>12.857763</td>\n",
       "      <td>14.571853</td>\n",
       "      <td>7.963822</td>\n",
       "      <td>10.582869</td>\n",
       "      <td>...</td>\n",
       "      <td>32.099666</td>\n",
       "      <td>175.619058</td>\n",
       "      <td>122.228915</td>\n",
       "      <td>95.050718</td>\n",
       "      <td>16.161780</td>\n",
       "      <td>114.428002</td>\n",
       "      <td>173.977455</td>\n",
       "      <td>13.346567</td>\n",
       "      <td>185.558415</td>\n",
       "      <td>22.088598</td>\n",
       "    </tr>\n",
       "    <tr>\n",
       "      <th>min</th>\n",
       "      <td>1922.000000</td>\n",
       "      <td>1.749000</td>\n",
       "      <td>-337.092500</td>\n",
       "      <td>-301.005060</td>\n",
       "      <td>-154.183580</td>\n",
       "      <td>-181.953370</td>\n",
       "      <td>-81.794290</td>\n",
       "      <td>-188.214000</td>\n",
       "      <td>-72.503850</td>\n",
       "      <td>-126.479040</td>\n",
       "      <td>...</td>\n",
       "      <td>-437.722030</td>\n",
       "      <td>-4402.376440</td>\n",
       "      <td>-1810.689190</td>\n",
       "      <td>-3098.350310</td>\n",
       "      <td>-341.789120</td>\n",
       "      <td>-3168.924570</td>\n",
       "      <td>-4319.992320</td>\n",
       "      <td>-236.039260</td>\n",
       "      <td>-7458.378150</td>\n",
       "      <td>-381.424430</td>\n",
       "    </tr>\n",
       "    <tr>\n",
       "      <th>25%</th>\n",
       "      <td>1994.000000</td>\n",
       "      <td>39.954667</td>\n",
       "      <td>-26.059848</td>\n",
       "      <td>-11.462775</td>\n",
       "      <td>-8.487507</td>\n",
       "      <td>-20.666455</td>\n",
       "      <td>-18.441005</td>\n",
       "      <td>-10.780360</td>\n",
       "      <td>-6.468390</td>\n",
       "      <td>-2.293670</td>\n",
       "      <td>...</td>\n",
       "      <td>-1.812658</td>\n",
       "      <td>-139.555737</td>\n",
       "      <td>-20.987115</td>\n",
       "      <td>-4.669655</td>\n",
       "      <td>-6.781598</td>\n",
       "      <td>-31.580617</td>\n",
       "      <td>-101.530305</td>\n",
       "      <td>-2.566137</td>\n",
       "      <td>-59.509453</td>\n",
       "      <td>-8.820248</td>\n",
       "    </tr>\n",
       "    <tr>\n",
       "      <th>50%</th>\n",
       "      <td>2002.000000</td>\n",
       "      <td>44.258490</td>\n",
       "      <td>8.417725</td>\n",
       "      <td>10.476235</td>\n",
       "      <td>-0.652855</td>\n",
       "      <td>-6.007770</td>\n",
       "      <td>-11.188355</td>\n",
       "      <td>-2.046625</td>\n",
       "      <td>-1.736415</td>\n",
       "      <td>3.822305</td>\n",
       "      <td>...</td>\n",
       "      <td>9.171850</td>\n",
       "      <td>-53.089115</td>\n",
       "      <td>28.790580</td>\n",
       "      <td>33.623815</td>\n",
       "      <td>0.820830</td>\n",
       "      <td>15.598520</td>\n",
       "      <td>-21.204225</td>\n",
       "      <td>3.117645</td>\n",
       "      <td>7.759910</td>\n",
       "      <td>0.053015</td>\n",
       "    </tr>\n",
       "    <tr>\n",
       "      <th>75%</th>\n",
       "      <td>2006.000000</td>\n",
       "      <td>47.833875</td>\n",
       "      <td>36.124030</td>\n",
       "      <td>29.764685</td>\n",
       "      <td>8.787548</td>\n",
       "      <td>7.741877</td>\n",
       "      <td>-2.388945</td>\n",
       "      <td>6.508587</td>\n",
       "      <td>2.913455</td>\n",
       "      <td>9.961865</td>\n",
       "      <td>...</td>\n",
       "      <td>26.274487</td>\n",
       "      <td>13.478793</td>\n",
       "      <td>89.661785</td>\n",
       "      <td>77.785810</td>\n",
       "      <td>8.471000</td>\n",
       "      <td>67.795110</td>\n",
       "      <td>52.389322</td>\n",
       "      <td>9.967742</td>\n",
       "      <td>86.351645</td>\n",
       "      <td>9.679540</td>\n",
       "    </tr>\n",
       "    <tr>\n",
       "      <th>max</th>\n",
       "      <td>2011.000000</td>\n",
       "      <td>61.970140</td>\n",
       "      <td>384.065730</td>\n",
       "      <td>322.851430</td>\n",
       "      <td>335.771820</td>\n",
       "      <td>262.068870</td>\n",
       "      <td>166.236890</td>\n",
       "      <td>172.402680</td>\n",
       "      <td>126.741270</td>\n",
       "      <td>146.297950</td>\n",
       "      <td>...</td>\n",
       "      <td>840.973380</td>\n",
       "      <td>4469.454870</td>\n",
       "      <td>3210.701700</td>\n",
       "      <td>1734.079690</td>\n",
       "      <td>260.544900</td>\n",
       "      <td>3662.065650</td>\n",
       "      <td>2833.608950</td>\n",
       "      <td>463.419500</td>\n",
       "      <td>7393.398440</td>\n",
       "      <td>677.899630</td>\n",
       "    </tr>\n",
       "  </tbody>\n",
       "</table>\n",
       "<p>8 rows × 91 columns</p>\n",
       "</div>"
      ],
      "text/plain": [
       "                2001       49.94357       21.47114       73.07750  \\\n",
       "count  515344.000000  515344.000000  515344.000000  515344.000000   \n",
       "mean     1998.397077      43.387113       1.289515       8.658222   \n",
       "std        10.931056       6.067557      51.580393      35.268505   \n",
       "min      1922.000000       1.749000    -337.092500    -301.005060   \n",
       "25%      1994.000000      39.954667     -26.059848     -11.462775   \n",
       "50%      2002.000000      44.258490       8.417725      10.476235   \n",
       "75%      2006.000000      47.833875      36.124030      29.764685   \n",
       "max      2011.000000      61.970140     384.065730     322.851430   \n",
       "\n",
       "             8.74861      -17.40628      -13.09905      -25.01202  \\\n",
       "count  515344.000000  515344.000000  515344.000000  515344.000000   \n",
       "mean        1.164110      -6.553580      -9.521968      -2.391046   \n",
       "std        16.322802      22.860803      12.857763      14.571853   \n",
       "min      -154.183580    -181.953370     -81.794290    -188.214000   \n",
       "25%        -8.487507     -20.666455     -18.441005     -10.780360   \n",
       "50%        -0.652855      -6.007770     -11.188355      -2.046625   \n",
       "75%         8.787548       7.741877      -2.388945       6.508587   \n",
       "max       335.771820     262.068870     166.236890     172.402680   \n",
       "\n",
       "           -12.23257        7.83089  ...       13.01620      -54.40548  \\\n",
       "count  515344.000000  515344.000000  ...  515344.000000  515344.000000   \n",
       "mean       -1.793215       3.727868  ...      15.755411     -73.461537   \n",
       "std         7.963822      10.582869  ...      32.099666     175.619058   \n",
       "min       -72.503850    -126.479040  ...    -437.722030   -4402.376440   \n",
       "25%        -6.468390      -2.293670  ...      -1.812658    -139.555737   \n",
       "50%        -1.736415       3.822305  ...       9.171850     -53.089115   \n",
       "75%         2.913455       9.961865  ...      26.274487      13.478793   \n",
       "max       126.741270     146.297950  ...     840.973380    4469.454870   \n",
       "\n",
       "            58.99367       15.37344        1.11144      -23.08793  \\\n",
       "count  515344.000000  515344.000000  515344.000000  515344.000000   \n",
       "mean       41.542388      37.934163       0.315750      17.669292   \n",
       "std       122.228915      95.050718      16.161780     114.428002   \n",
       "min     -1810.689190   -3098.350310    -341.789120   -3168.924570   \n",
       "25%       -20.987115      -4.669655      -6.781598     -31.580617   \n",
       "50%        28.790580      33.623815       0.820830      15.598520   \n",
       "75%        89.661785      77.785810       8.471000      67.795110   \n",
       "max      3210.701700    1734.079690     260.544900    3662.065650   \n",
       "\n",
       "            68.40795       -1.82223      -27.46348        2.26327  \n",
       "count  515344.000000  515344.000000  515344.000000  515344.000000  \n",
       "mean      -26.315520       4.458653      20.035229       1.329104  \n",
       "std       173.977455      13.346567     185.558415      22.088598  \n",
       "min     -4319.992320    -236.039260   -7458.378150    -381.424430  \n",
       "25%      -101.530305      -2.566137     -59.509453      -8.820248  \n",
       "50%       -21.204225       3.117645       7.759910       0.053015  \n",
       "75%        52.389322       9.967742      86.351645       9.679540  \n",
       "max      2833.608950     463.419500    7393.398440     677.899630  \n",
       "\n",
       "[8 rows x 91 columns]"
      ]
     },
     "execution_count": 175,
     "metadata": {},
     "output_type": "execute_result"
    }
   ],
   "source": [
    "df.describe()"
   ]
  },
  {
   "cell_type": "code",
   "execution_count": 176,
   "metadata": {},
   "outputs": [
    {
     "data": {
      "text/plain": [
       "0"
      ]
     },
     "execution_count": 176,
     "metadata": {},
     "output_type": "execute_result"
    }
   ],
   "source": [
    "df.isnull().sum().sum()"
   ]
  },
  {
   "attachments": {},
   "cell_type": "markdown",
   "metadata": {
    "id": "_386JE_o5gOd"
   },
   "source": [
    "## Задание 0. (0 баллов, но при невыполнении максимум за все задание &mdash; 0 баллов)\n",
    "\n",
    "Мы будем использовать RMSE как метрику качества. Для самого первого бейзлайна обучите `Ridge` регрессию из `sklearn`. Кроме того, посчитайте качество при наилучшем константном прогнозе.\n",
    "\n",
    "Для выполнения данного задания (и всех последующих) предобработайте данные.\n",
    "\n",
    "1. Зафиксируйте random_seed везде где только возможно. Вам предоставлена функция для этого, однако вы можете дополнить ее своими дополнениями\n",
    "2. Обучите StandertScaler и предобработайте ваши данные. В следующих заданиях можете использовать другой scaler или вообще отказаться от него\n"
   ]
  },
  {
   "cell_type": "code",
   "execution_count": 4,
   "metadata": {
    "id": "1kV-kCVs8Aju"
   },
   "outputs": [],
   "source": [
    "from sklearn.preprocessing import StandardScaler\n",
    "\n",
    "scaler = StandardScaler()"
   ]
  },
  {
   "cell_type": "code",
   "execution_count": 5,
   "metadata": {
    "id": "lkfkXylb8U-O"
   },
   "outputs": [],
   "source": [
    "def set_random_seed(seed):\n",
    "    torch.backends.cudnn.deterministic = True\n",
    "    torch.manual_seed(seed)\n",
    "    torch.cuda.manual_seed(seed)\n",
    "    np.random.seed(seed)\n",
    "    random.seed(seed)"
   ]
  },
  {
   "cell_type": "code",
   "execution_count": 6,
   "metadata": {
    "id": "GKVVatBw8cH7"
   },
   "outputs": [],
   "source": [
    "set_random_seed(42)"
   ]
  },
  {
   "cell_type": "code",
   "execution_count": 7,
   "metadata": {},
   "outputs": [],
   "source": [
    "X_train=scaler.fit_transform(X_train)\n",
    "X_test=scaler.transform(X_test)"
   ]
  },
  {
   "cell_type": "code",
   "execution_count": 181,
   "metadata": {
    "id": "uv7qthu935C4"
   },
   "outputs": [
    {
     "data": {
      "text/plain": [
       "9.510102474328402"
      ]
     },
     "execution_count": 181,
     "metadata": {},
     "output_type": "execute_result"
    }
   ],
   "source": [
    "from sklearn.linear_model import Ridge\n",
    "\n",
    "model = Ridge()\n",
    "model.fit(X_train,y_train)\n",
    "y_pred=model.predict(X_test)\n",
    "rmse_for_model = np.sqrt(np.mean((y_pred-y_test)**2))\n",
    "rmse_for_model"
   ]
  },
  {
   "attachments": {},
   "cell_type": "markdown",
   "metadata": {
    "id": "HJKGuhFi35C4"
   },
   "source": [
    "Лучшая константа для RMSE это среднее, посчитаем значение метрики при нем"
   ]
  },
  {
   "cell_type": "code",
   "execution_count": 182,
   "metadata": {},
   "outputs": [
    {
     "data": {
      "text/plain": [
       "10.852502661251654"
      ]
     },
     "execution_count": 182,
     "metadata": {},
     "output_type": "execute_result"
    }
   ],
   "source": [
    "const= y_train.mean()\n",
    "y_pred=np.full(shape=(y_test.shape),fill_value=const)\n",
    "rmse_for_const = np.sqrt(np.mean((y_pred-y_test)**2))\n",
    "rmse_for_const"
   ]
  },
  {
   "cell_type": "code",
   "execution_count": 183,
   "metadata": {
    "id": "kOcFuy1P35C4"
   },
   "outputs": [],
   "source": [
    "best_rmse_metric = rmse_for_model"
   ]
  },
  {
   "attachments": {},
   "cell_type": "markdown",
   "metadata": {
    "id": "BDHAnIkS8vNY"
   },
   "source": [
    "## Задание 1. (максимум 10 баллов)\n",
    "\n",
    "Закрепите свои знания о том, как pytorch работает с обратным распространением ошибки, проделав следующие шаги:\n",
    "\n",
    "1. Создайте модель линейной регрессии, которая будет состоять только из одного Linear слоя.\n",
    "2. Напишите цикл обучения вашей линейной регрессии. В нем реализуйте подсчет функции потерь, сделайте шаг градиентного спуска. Запрещено использовать готовые оптимизаторы и loss-функции из библиотеки pytorch. Для подсчета градиента воспользуйтесь методом backward.\n",
    "3. Запустите обучение на 10 эпохах, после каждой проверяйте значение целевой метрики на тестовой выборке.\n",
    "4. Выведите на экран графики метрики и значения функции потерь на тестовой и обучающей выборке.\n",
    "\n",
    "В данном задании нет цели побить какой-то порог по метрике. Ваша задача - убедиться в том, что ваш рукописный цикл обучения работает. Для ускорения вычислений и обучения модели можете брать только срез данных, а не весь датасет."
   ]
  },
  {
   "cell_type": "code",
   "execution_count": 8,
   "metadata": {
    "id": "LxnT6G1J-apf"
   },
   "outputs": [],
   "source": [
    "w=torch.rand(X.shape[1],1,requires_grad=True)\n",
    "b=torch.rand(1,requires_grad=True)\n",
    "\n",
    "X_train_t=torch.tensor(X_train,dtype=torch.float32)\n",
    "y_train_t=torch.tensor(y_train,dtype=torch.float32)\n",
    "y_train_t=y_train_t.reshape(-1,1)\n",
    "\n",
    "X_test_t=torch.tensor(X_test,dtype=torch.float32)\n",
    "y_test_t=torch.tensor(y_test,dtype=torch.float32)\n",
    "y_test_t=y_test_t.reshape(-1,1)"
   ]
  },
  {
   "cell_type": "markdown",
   "metadata": {},
   "source": [
    "***Без мини батч***"
   ]
  },
  {
   "cell_type": "code",
   "execution_count": 185,
   "metadata": {},
   "outputs": [],
   "source": [
    "def rmse(y_pred,y_test):\n",
    "    return torch.sqrt(torch.mean((y_pred-y_test)**2))\n",
    "    "
   ]
  },
  {
   "cell_type": "code",
   "execution_count": 186,
   "metadata": {},
   "outputs": [
    {
     "data": {
      "text/plain": [
       "tensor(1947.8748, grad_fn=<SqrtBackward0>)"
      ]
     },
     "execution_count": 186,
     "metadata": {},
     "output_type": "execute_result"
    }
   ],
   "source": [
    "i=0\n",
    "while i <1000:\n",
    "    \n",
    "    # previous_rmse=rmse(y_pred,y_train_t)\n",
    "    y_pred=b+X_train_t@w\n",
    "    loss=rmse(y_pred,y_train_t)\n",
    "    loss.backward()\n",
    "\n",
    "    w.data=w.data-0.05*w.grad\n",
    "    b.data=b.data-0.05*b.grad\n",
    "    \n",
    "    w.grad.data.zero_()\n",
    "    b.grad.data.zero_()\n",
    "    i+=1\n",
    "    \n",
    "rmse(y_pred,y_train_t)"
   ]
  },
  {
   "cell_type": "markdown",
   "metadata": {},
   "source": [
    "***Мини батч***"
   ]
  },
  {
   "cell_type": "code",
   "execution_count": 9,
   "metadata": {},
   "outputs": [],
   "source": [
    "from torch.utils.data import DataLoader, TensorDataset"
   ]
  },
  {
   "cell_type": "code",
   "execution_count": 10,
   "metadata": {},
   "outputs": [],
   "source": [
    "train_dataset=TensorDataset(X_train_t,y_train_t)\n",
    "test_dataset=TensorDataset(X_test_t,y_test_t)\n",
    "\n",
    "train_dataloader = torch.utils.data.DataLoader(\n",
    "    train_dataset, batch_size=50, shuffle=True, num_workers=1\n",
    ")\n",
    "\n",
    "test_dataloader = torch.utils.data.DataLoader(\n",
    "    test_dataset, batch_size=50, shuffle=True, num_workers=1\n",
    ")"
   ]
  },
  {
   "cell_type": "code",
   "execution_count": 11,
   "metadata": {},
   "outputs": [],
   "source": [
    "if torch.cuda.is_available():\n",
    "    device = torch.device('cuda')\n",
    "else:\n",
    "    device = torch.device('cpu')"
   ]
  },
  {
   "cell_type": "code",
   "execution_count": 192,
   "metadata": {
    "scrolled": true
   },
   "outputs": [
    {
     "data": {
      "image/png": "[encoded data removed]",
      "text/plain": [
       "<Figure size 800x400 with 2 Axes>"
      ]
     },
     "metadata": {},
     "output_type": "display_data"
    },
    {
     "name": "stderr",
     "output_type": "stream",
     "text": [
      "Epochs: 100%|██████████| 10/10 [00:52<00:00,  5.25s/it]\n"
     ]
    }
   ],
   "source": [
    "from tqdm import tqdm\n",
    "\n",
    "epochs=10\n",
    "train_loss_history = []\n",
    "test_loss_history = []\n",
    "\n",
    "for epo in tqdm(range(epochs), desc=\"Epochs\"):\n",
    "    train_losses=[]\n",
    "    for X_train,y_train in train_dataloader:\n",
    "        y_pred=b+X_train@w\n",
    "        loss=rmse(y_pred,y_train)\n",
    "        loss.backward()\n",
    "        \n",
    "        w.data=w.data-0.05*w.grad\n",
    "        b.data=b.data-0.05*b.grad\n",
    "        \n",
    "        w.grad.data.zero_()\n",
    "        b.grad.data.zero_()\n",
    "        train_losses.append(loss.item())\n",
    "    avg_train_loss = np.mean(train_losses)\n",
    "    train_loss_history.append(avg_train_loss)\n",
    "        \n",
    "        \n",
    "\n",
    "    if epo %2 ==0:\n",
    "            test_losses=[]\n",
    "            with torch.no_grad():\n",
    "                for X_test,y_test in test_dataloader:\n",
    "                    y_pred_test=b+X_test@w\n",
    "                    test_score=rmse(y_pred_test,y_test)\n",
    "                    test_losses.append(test_score.item())\n",
    "                \n",
    "                    \n",
    "                test_losses_avg=np.mean(test_losses)\n",
    "                test_loss_history.append(test_losses_avg)\n",
    "\n",
    "                print(        \n",
    "                f\"Epoch: {epo}, loss: {test_losses_avg}\"\n",
    "            )\n",
    "    clear_output(wait=True)\n",
    "    fig, axs = plt.subplots(1, 2, figsize=(8, 4))\n",
    "\n",
    "    axs[0].plot(train_loss_history, label=\"Train RMSE\", color=\"blue\", marker=\"o\")\n",
    "    axs[0].set_title(\"Train RMSE\")\n",
    "    axs[0].set_xlabel(\"Epoch\")\n",
    "    axs[0].set_ylabel(\"RMSE\")\n",
    "    axs[0].grid(True)\n",
    "\n",
    "    axs[1].plot(test_loss_history, label=\"Test RMSE\", color=\"green\", marker=\"x\")\n",
    "    axs[1].set_title(\"Test RMSE\")\n",
    "    axs[1].set_xlabel(\"Epoch\")\n",
    "    axs[1].set_ylabel(\"RMSE\")\n",
    "    axs[1].grid(True)\n",
    "\n",
    "    plt.tight_layout()\n",
    "    plt.show()\n",
    "    \n",
    "    \n",
    "                    "
   ]
  },
  {
   "attachments": {},
   "cell_type": "markdown",
   "metadata": {
    "id": "_6ilBKYt6OdD"
   },
   "source": [
    "## Задание 2. (максимум 10 баллов)\n",
    "\n",
    "Реализуйте обучение и тестирование нейронной сети для предоставленного вам набора данных. Соотношение между полученным значением метрики на тестовой выборке и баллами за задание следующее:\n",
    "\n",
    "- $\\text{RMSE} \\le 9.00 $ &mdash; 4 балла\n",
    "- $\\text{RMSE} \\le 8.90 $ &mdash; 6 баллов\n",
    "- $\\text{RMSE} \\le 8.80 $ &mdash; 8 баллов\n",
    "- $\\text{RMSE} \\le 8.75 $ &mdash; 10 баллов\n",
    "\n",
    "Есть несколько правил, которых вам нужно придерживаться:\n",
    "\n",
    "- Весь пайплайн обучения должен быть написан на PyTorch. При этом вы можете пользоваться другими библиотеками (`numpy`, `sklearn` и пр.), но только для обработки данных. То есть как угодно трансформировать данные и считать метрики с помощью этих библиотек можно, а импортировать модели из `sklearn` и выбивать с их помощью требуемое качество &mdash; нельзя. Также нельзя пользоваться библиотеками, для которых сам PyTorch является зависимостью.\n",
    "\n",
    "- Мы никак не ограничиваем ваш выбор архитектуры модели, но скорее всего вам будет достаточно полносвязной нейронной сети.\n",
    "\n",
    "- Для обучения запрещается использовать какие-либо иные данные, кроме обучающей выборки.\n",
    "\n",
    "- Ансамблирование моделей запрещено.\n",
    "\n",
    "### Полезные советы:\n",
    "\n",
    "- Очень вряд ли, что у вас с первого раза получится выбить качество на 10 баллов, поэтому пробуйте разные архитектуры, оптимизаторы и значения гиперпараметров. В идеале при запуске каждого нового эксперимента вы должны менять что-то одно, чтобы точно знать, как этот фактор влияет на качество.\n",
    "\n",
    "- Не забудьте, что для улучшения качества модели вам поможет **нормировка таргета**.\n",
    "\n",
    "- Тот факт, что мы занимаемся глубинным обучением, не означает, что стоит забывать про приемы, использующиеся в классическом машинном обучении. Так что обязательно проводите исследовательский анализ данных, отрисовывайте нужные графики и не забывайте про масштабирование и подбор гиперпараметров.\n",
    "\n",
    "- Вы наверняка столкнетесь с тем, что ваша нейронная сеть будет сильно переобучаться. Для нейросетей существуют специальные методы регуляризации, например, dropout ([статья](https://jmlr.org/papers/volume15/srivastava14a/srivastava14a.pdf)) и weight decay ([блогпост](https://towardsdatascience.com/weight-decay-l2-regularization-90a9e17713cd)). Они, разумеется, реализованы в PyTorch. Попробуйте поэкспериментировать с ними.\n",
    "\n",
    "- Если вы чего-то не знаете, не гнушайтесь гуглить. В интернете очень много полезной информации, туториалов и советов по глубинному обучению в целом и по PyTorch в частности. Но не забывайте, что за скатанный код без ссылки на источник придется ответить по всей строгости!\n",
    "\n",
    "- Если вы сразу реализуете обучение на GPU, то у вас будет больше времени на эксперименты, так как любые вычисления будут работать быстрее. Google Colab предоставляет несколько GPU-часов (обычно около 8-10) в сутки бесплатно.\n",
    "\n",
    "- Чтобы отладить код, можете обучаться на небольшой части данных или даже на одном батче. Если лосс на обучающей выборке не падает, то что-то точно идет не так!\n",
    "\n",
    "- Пользуйтесь утилитами, которые вам предоставляет PyTorch (например, Dataset и Dataloader). Их специально разработали для упрощения разработки пайплайна обучения.\n",
    "\n",
    "- Скорее всего вы захотите отслеживать прогресс обучения. Для создания прогресс-баров есть удобная библиотека `tqdm`.\n",
    "\n",
    "- Быть может, вы захотите, чтобы графики рисовались прямо во время обучения. Можете воспользоваться функцией [clear_output](http://ipython.org/ipython-doc/dev/api/generated/IPython.display.html#IPython.display.clear_output), чтобы удалять старый график и рисовать новый на его месте.\n",
    "\n",
    "**ОБЯЗАТЕЛЬНО** рисуйте графики зависимости лосса/метрики на обучающей и тестовой выборках в зависимости от времени обучения. Если обучение занимает относительно небольшое число эпох, то лучше рисовать зависимость от номера шага обучения, если же эпох больше, то рисуйте зависимость по эпохам. Если проверяющий не увидит такого графика для вашей лучшей модели, то он в праве снизить баллы за задание.\n",
    "\n",
    "**ВАЖНО!** Ваше решение должно быть воспроизводимым. Если это не так, то проверяющий имеет право снизить баллы за задание. Чтобы зафиксировать random seed, воспользуйтесь функцией из предыдущего задания.\n",
    "\n"
   ]
  },
  {
   "attachments": {},
   "cell_type": "markdown",
   "metadata": {
    "id": "TZW0gMe3vT8u"
   },
   "source": [
    "Вы можете придерживаться любой адекватной струкуры кода, но мы советуем воспользоваться сигнатурами функций, которые приведены ниже. Лучше всего, если вы проверите ваши предсказания ассертом: так вы убережете себя от разных косяков, например, что вектор предсказаний состоит из всего одного числа. В любом случае, внимательно следите за тем, для каких тензоров вы считаете метрику RMSE. При случайном или намеренном введении в заблуждение проверяющие очень сильно разозлятся."
   ]
  },
  {
   "cell_type": "code",
   "execution_count": null,
   "metadata": {},
   "outputs": [],
   "source": [
    "from torch.optim.lr_scheduler import StepLR"
   ]
  },
  {
   "cell_type": "code",
   "execution_count": 37,
   "metadata": {},
   "outputs": [],
   "source": [
    "X = df.iloc[:, 1:].values\n",
    "y = df.iloc[:, 0].values\n",
    "\n",
    "train_size = 463715\n",
    "X_train = X[:train_size, :]\n",
    "y_train = y[:train_size]\n",
    "X_test = X[train_size:, :]\n",
    "y_test = y[train_size:]"
   ]
  },
  {
   "cell_type": "code",
   "execution_count": null,
   "metadata": {},
   "outputs": [],
   "source": [
    "train_set = None \n",
    "train_loader = None \n",
    "\n",
    "test_set = None  \n",
    "test_loader = None  \n",
    "\n",
    "model = None\n",
    "optimizer = None  \n",
    "criterion = None"
   ]
  },
  {
   "cell_type": "code",
   "execution_count": 93,
   "metadata": {},
   "outputs": [],
   "source": [
    "def train(model, optimizer, criterion, train_loader, test_loader):\n",
    "    \"\"\"\n",
    "    params:\n",
    "        model - torch.nn.Module to be fitted\n",
    "        optimizer - model optimizer\n",
    "        criterion - loss function from torch.nn\n",
    "        train_loader - torch.utils.data.Dataloader with train set\n",
    "        test_loader - torch.utils.data.Dataloader with test set\n",
    "                      (if you wish to validate during training)\n",
    "    \"\"\"\n",
    "    epochs=30\n",
    "    test_history=[]\n",
    "    test_score_avg=0\n",
    "    scheduler = torch.optim.lr_scheduler.StepLR(optimizer, step_size=5, gamma=0.3)\n",
    "    for epo in range (epochs):\n",
    "        \n",
    "        for  X_train,y_train in train_loader:\n",
    "            y_pred=model(X_train)\n",
    "            loss=criterion(y_pred,y_train)\n",
    "            loss.backward()\n",
    "            optimizer.step()\n",
    "            optimizer.zero_grad()\n",
    "        scheduler.step()\n",
    "            \n",
    "        if (epo %2==0) and (epo!=0):\n",
    "            \n",
    "            with torch.no_grad():\n",
    "                test_score=[]\n",
    "                for X_test,y_test in test_loader:\n",
    "                     y_pred_test=model(X_test)\n",
    "                     loss=criterion(y_pred_test,y_test)\n",
    "                     test_score.append(loss.item())\n",
    "\n",
    "                test_score_avg=np.mean(test_score)\n",
    "                test_history.append(test_score_avg)\n",
    "    \n",
    "        clear_output(wait=True)\n",
    "        plt.figure(figsize=(8,4))\n",
    "        plt.plot(test_history)\n",
    "        plt.title(f'RMSE Test Valuation:{test_score_avg}')\n",
    "        plt.xlabel('Epochs')\n",
    "        plt.ylabel('RMSE')\n",
    "        plt.grid()\n",
    "        plt.show()\n",
    "    return model\n",
    "    \n",
    "\n",
    "\n",
    "def test(model, criterion, test_loader):\n",
    "    \"\"\"\n",
    "    params:\n",
    "        model - torch.nn.Module to be evaluated on test set\n",
    "        criterion - loss function from torch.nn\n",
    "        test_loader - torch.utils.data.Dataloader with test set\n",
    "    ----------\n",
    "    returns:\n",
    "        predicts - torch.tensor with shape (len(test_loader.dataset), ),\n",
    "                   which contains predictions for test objects\n",
    "    \"\"\"\n",
    "       \n",
    "   # with torch.no_grad():\n",
    "    test_score=[]\n",
    "    for X_test,y_test in test_loader:\n",
    "             y_pred_test=model(X_test)\n",
    "             loss=criterion(y_pred_test,y_test)\n",
    "             test_score.append(loss.item())\n",
    "    test_score_avg=np.mean(test_score)\n",
    "    print(f'RMSE: {test_score_avg}')\n",
    "    predicts = torch.ones(len(test_loader.dataset))\n",
    "    return predicts\n"
   ]
  },
  {
   "cell_type": "code",
   "execution_count": 14,
   "metadata": {},
   "outputs": [],
   "source": [
    "class RMSE (nn.Module):\n",
    "      def __init__(self):\n",
    "          super().__init__()\n",
    "      def forward(self,y_pred,y_fact):\n",
    "          return torch.sqrt(torch.mean((y_pred - y_fact)**2))\n",
    "        "
   ]
  },
  {
   "cell_type": "code",
   "execution_count": 82,
   "metadata": {},
   "outputs": [],
   "source": [
    "model= nn.Sequential(\n",
    "    nn.Linear(X.shape[1],X.shape[1]//2),\n",
    "    nn.ReLU(),\n",
    "    nn.Linear(X.shape[1]//2,X.shape[1]//4),\n",
    "    nn.ReLU(),\n",
    "    nn.Linear(X.shape[1]//4,X.shape[1]//8),\n",
    "    nn.ReLU(),\n",
    "    nn.Linear(X.shape[1]//8,1)\n",
    ")\n",
    "optimizer = torch.optim.Adam(model.parameters(), lr=0.001)\n",
    "criterion = RMSE()"
   ]
  },
  {
   "cell_type": "code",
   "execution_count": 38,
   "metadata": {},
   "outputs": [],
   "source": [
    "X_train=scaler.fit_transform(X_train)\n",
    "X_test=scaler.transform(X_test)\n",
    "\n",
    "\n",
    "X_train_t=torch.tensor(X_train,dtype=torch.float32)\n",
    "y_train_t=torch.tensor(y_train,dtype=torch.float32)\n",
    "y_train_t=y_train_t.reshape(-1,1)\n",
    "\n",
    "X_test_t=torch.tensor(X_test,dtype=torch.float32)\n",
    "y_test_t=torch.tensor(y_test,dtype=torch.float32)\n",
    "y_test_t=y_test_t.reshape(-1,1)"
   ]
  },
  {
   "cell_type": "code",
   "execution_count": 76,
   "metadata": {},
   "outputs": [],
   "source": [
    "train_dataset=TensorDataset(X_train_t,y_train_t)\n",
    "test_dataset=TensorDataset(X_test_t,y_test_t)\n",
    "\n",
    "train_dataloader = torch.utils.data.DataLoader(\n",
    "    train_dataset, batch_size=24, shuffle=True, num_workers=1\n",
    ")\n",
    "\n",
    "test_dataloader = torch.utils.data.DataLoader(\n",
    "    test_dataset, batch_size=24, shuffle=True, num_workers=1\n",
    ")"
   ]
  },
  {
   "cell_type": "code",
   "execution_count": 86,
   "metadata": {},
   "outputs": [],
   "source": [
    "set_random_seed(42)"
   ]
  },
  {
   "cell_type": "code",
   "execution_count": 88,
   "metadata": {},
   "outputs": [
    {
     "data": {
      "image/png": "[encoded data removed]",
      "text/plain": [
       "<Figure size 800x400 with 1 Axes>"
      ]
     },
     "metadata": {},
     "output_type": "display_data"
    }
   ],
   "source": [
    "new_model=train(model, optimizer, criterion, train_dataloader, test_dataloader)"
   ]
  },
  {
   "cell_type": "code",
   "execution_count": 94,
   "metadata": {},
   "outputs": [
    {
     "name": "stdout",
     "output_type": "stream",
     "text": [
      "RMSE: 8.68550703993074\n"
     ]
    },
    {
     "data": {
      "text/plain": [
       "tensor([1., 1., 1.,  ..., 1., 1., 1.])"
      ]
     },
     "execution_count": 94,
     "metadata": {},
     "output_type": "execute_result"
    }
   ],
   "source": [
    "test(new_model, criterion, test_dataloader)"
   ]
  },
  {
   "cell_type": "code",
   "execution_count": null,
   "metadata": {},
   "outputs": [],
   "source": [
    "assert test(model, criterion, test_loader).shape[0] == y_test.shape[0]"
   ]
  },
  {
   "attachments": {},
   "cell_type": "markdown",
   "metadata": {
    "id": "bine9EES6TIn"
   },
   "source": [
    "## Задание 3. (0 баллов, но при невыполнении максимум за все задание &mdash; 0 баллов)\n",
    "\n",
    "Напишите небольшой отчет о том, как вы добились полученного качества: какие средства использовали и какие эксперименты проводили. Подробно расскажите об архитектурах и значениях гиперпараметров, а также какие метрики на тесте они показывали. Чтобы отчет был зачтен, необходимо привести хотя бы 3 эксперимента."
   ]
  },
  {
   "cell_type": "markdown",
   "metadata": {},
   "source": [
    "Поигрался с кол-вом слоев в модели, в основном  выходы уменьшал в степенной мере, также попробовал разные размеры мини батчей и разные виды оптимизаторов.\n",
    " Применил уменьшающийся learning rate"
   ]
  }
 ],
 "metadata": {
  "colab": {
   "provenance": []
  },
  "kernelspec": {
   "display_name": "Python 3 (ipykernel)",
   "language": "python",
   "name": "python3"
  },
  "language_info": {
   "codemirror_mode": {
    "name": "ipython",
    "version": 3
   },
   "file_extension": ".py",
   "mimetype": "text/x-python",
   "name": "python",
   "nbconvert_exporter": "python",
   "pygments_lexer": "ipython3",
   "version": "3.12.7"
  }
 },
 "nbformat": 4,
 "nbformat_minor": 4
}
