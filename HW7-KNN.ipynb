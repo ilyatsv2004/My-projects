{
 "cells": [
  {
   "cell_type": "markdown",
   "metadata": {
    "id": "AkS7Lxm8nTLB"
   },
   "source": [
    "# Метрические алгоритмы. Практика"
   ]
  },
  {
   "cell_type": "markdown",
   "metadata": {
    "id": "3jgxaKLXynLQ"
   },
   "source": [
    "В этом домашнем задании вы будете решать задачу классификации бутылок вина по различным характеристикам."
   ]
  },
  {
   "cell_type": "markdown",
   "metadata": {
    "id": "ow7CdXlWyrfI"
   },
   "source": [
    "## Импорт библиотек, установка константных значений"
   ]
  },
  {
   "cell_type": "code",
   "execution_count": 1,
   "metadata": {
    "id": "shgV5ZT-oLG2"
   },
   "outputs": [],
   "source": [
    "import pandas as pd\n",
    "import numpy as np"
   ]
  },
  {
   "cell_type": "code",
   "execution_count": 2,
   "metadata": {
    "id": "85Rgp6ivyvZq"
   },
   "outputs": [],
   "source": [
    "RANDOM_STATE = 42\n",
    "TRAIN_SIZE = 0.75"
   ]
  },
  {
   "cell_type": "code",
   "execution_count": 3,
   "metadata": {
    "id": "QGpwI1GxyySs"
   },
   "outputs": [],
   "source": [
    "rng = np.random.default_rng(RANDOM_STATE)"
   ]
  },
  {
   "cell_type": "markdown",
   "metadata": {
    "id": "uOk2Swygyxho"
   },
   "source": [
    "## Загрузка данных"
   ]
  },
  {
   "cell_type": "code",
   "execution_count": 4,
   "metadata": {
    "id": "_8RhxtHwwzTG"
   },
   "outputs": [],
   "source": [
    "from sklearn.datasets import load_wine\n",
    "\n",
    "data = load_wine(as_frame=True)\n",
    "\n",
    "X = data.data\n",
    "y = data.target"
   ]
  },
  {
   "cell_type": "markdown",
   "metadata": {
    "id": "KvNTy4_yzOwY"
   },
   "source": [
    "## Задание 1"
   ]
  },
  {
   "cell_type": "markdown",
   "metadata": {
    "id": "PNKeCjtEncob"
   },
   "source": [
    "Посмотрите на количество классов и количество объектов каждого класса в датасете."
   ]
  },
  {
   "cell_type": "markdown",
   "metadata": {
    "id": "1O1xV6KWzW8e"
   },
   "source": [
    "**Вопрос**:  \n",
    "Сколько классов в задаче?"
   ]
  },
  {
   "cell_type": "code",
   "execution_count": 6,
   "metadata": {
    "id": "vnIXJMT9nh78"
   },
   "outputs": [
    {
     "data": {
      "text/plain": [
       "target\n",
       "1    71\n",
       "0    59\n",
       "2    48\n",
       "Name: count, dtype: int64"
      ]
     },
     "execution_count": 6,
     "metadata": {},
     "output_type": "execute_result"
    }
   ],
   "source": [
    "y.value_counts()"
   ]
  },
  {
   "cell_type": "markdown",
   "metadata": {
    "id": "jk9RqS69z6af"
   },
   "source": [
    "## Задание 2"
   ]
  },
  {
   "cell_type": "markdown",
   "metadata": {
    "id": "S8dnUB81nkG0"
   },
   "source": [
    "Мы имеем дело с многоклассовой классификацией. Кроме того, классы не очень хорошо сбалансированы, поэтому для оценки качества модели метрика *accuracy* не подойдет."
   ]
  },
  {
   "cell_type": "markdown",
   "metadata": {
    "id": "qM6ZTfphyL8W"
   },
   "source": [
    "Разбейте данные на тренировочную и тестовую части:  \n",
    "тестовая часть - 25% от всех данных, зафиксируйте `random_state = RANDOM_STATE`."
   ]
  },
  {
   "cell_type": "code",
   "execution_count": 7,
   "metadata": {
    "id": "f16RkGUaxUh4"
   },
   "outputs": [],
   "source": [
    "from sklearn.model_selection import train_test_split\n",
    "\n",
    "X_train, X_test, y_train, y_test = train_test_split(X,y,test_size=0.25,random_state = RANDOM_STATE)"
   ]
  },
  {
   "cell_type": "markdown",
   "metadata": {
    "id": "bX6Vv4dryREe"
   },
   "source": [
    "**Вопрос:**\n",
    "\n",
    "Все ли признаки в данных одного масштаба?  \n",
    "Проверьте это, выведя основные числовые характеристики матрицы `X_train` методом `describe` из библиотеки `pandas`.\n",
    "\n",
    "По полученной таблице числовых характеристик определите, какой признак измеряется в сотнях?  \n",
    "(если вариантов несколько, выберите признак с наибольшим средним значением)."
   ]
  },
  {
   "cell_type": "code",
   "execution_count": 8,
   "metadata": {
    "id": "VTOG8ggByUSZ"
   },
   "outputs": [
    {
     "data": {
      "text/html": [
       "<div>\n",
       "<style scoped>\n",
       "    .dataframe tbody tr th:only-of-type {\n",
       "        vertical-align: middle;\n",
       "    }\n",
       "\n",
       "    .dataframe tbody tr th {\n",
       "        vertical-align: top;\n",
       "    }\n",
       "\n",
       "    .dataframe thead th {\n",
       "        text-align: right;\n",
       "    }\n",
       "</style>\n",
       "<table border=\"1\" class=\"dataframe\">\n",
       "  <thead>\n",
       "    <tr style=\"text-align: right;\">\n",
       "      <th></th>\n",
       "      <th>alcohol</th>\n",
       "      <th>malic_acid</th>\n",
       "      <th>ash</th>\n",
       "      <th>alcalinity_of_ash</th>\n",
       "      <th>magnesium</th>\n",
       "      <th>total_phenols</th>\n",
       "      <th>flavanoids</th>\n",
       "      <th>nonflavanoid_phenols</th>\n",
       "      <th>proanthocyanins</th>\n",
       "      <th>color_intensity</th>\n",
       "      <th>hue</th>\n",
       "      <th>od280/od315_of_diluted_wines</th>\n",
       "      <th>proline</th>\n",
       "    </tr>\n",
       "  </thead>\n",
       "  <tbody>\n",
       "    <tr>\n",
       "      <th>count</th>\n",
       "      <td>133.000000</td>\n",
       "      <td>133.000000</td>\n",
       "      <td>133.000000</td>\n",
       "      <td>133.000000</td>\n",
       "      <td>133.000000</td>\n",
       "      <td>133.000000</td>\n",
       "      <td>133.000000</td>\n",
       "      <td>133.000000</td>\n",
       "      <td>133.000000</td>\n",
       "      <td>133.000000</td>\n",
       "      <td>133.000000</td>\n",
       "      <td>133.000000</td>\n",
       "      <td>133.000000</td>\n",
       "    </tr>\n",
       "    <tr>\n",
       "      <th>mean</th>\n",
       "      <td>12.972857</td>\n",
       "      <td>2.386842</td>\n",
       "      <td>2.362180</td>\n",
       "      <td>19.433835</td>\n",
       "      <td>100.759398</td>\n",
       "      <td>2.277068</td>\n",
       "      <td>2.021203</td>\n",
       "      <td>0.363534</td>\n",
       "      <td>1.608647</td>\n",
       "      <td>5.017594</td>\n",
       "      <td>0.959444</td>\n",
       "      <td>2.610000</td>\n",
       "      <td>742.992481</td>\n",
       "    </tr>\n",
       "    <tr>\n",
       "      <th>std</th>\n",
       "      <td>0.829993</td>\n",
       "      <td>1.098905</td>\n",
       "      <td>0.280606</td>\n",
       "      <td>3.467312</td>\n",
       "      <td>14.999571</td>\n",
       "      <td>0.645696</td>\n",
       "      <td>1.005537</td>\n",
       "      <td>0.126923</td>\n",
       "      <td>0.576964</td>\n",
       "      <td>2.202516</td>\n",
       "      <td>0.234545</td>\n",
       "      <td>0.729961</td>\n",
       "      <td>306.867593</td>\n",
       "    </tr>\n",
       "    <tr>\n",
       "      <th>min</th>\n",
       "      <td>11.030000</td>\n",
       "      <td>0.890000</td>\n",
       "      <td>1.360000</td>\n",
       "      <td>10.600000</td>\n",
       "      <td>70.000000</td>\n",
       "      <td>0.980000</td>\n",
       "      <td>0.340000</td>\n",
       "      <td>0.130000</td>\n",
       "      <td>0.420000</td>\n",
       "      <td>1.740000</td>\n",
       "      <td>0.480000</td>\n",
       "      <td>1.270000</td>\n",
       "      <td>278.000000</td>\n",
       "    </tr>\n",
       "    <tr>\n",
       "      <th>25%</th>\n",
       "      <td>12.290000</td>\n",
       "      <td>1.640000</td>\n",
       "      <td>2.210000</td>\n",
       "      <td>17.200000</td>\n",
       "      <td>88.000000</td>\n",
       "      <td>1.700000</td>\n",
       "      <td>1.200000</td>\n",
       "      <td>0.260000</td>\n",
       "      <td>1.250000</td>\n",
       "      <td>3.250000</td>\n",
       "      <td>0.780000</td>\n",
       "      <td>1.830000</td>\n",
       "      <td>500.000000</td>\n",
       "    </tr>\n",
       "    <tr>\n",
       "      <th>50%</th>\n",
       "      <td>12.990000</td>\n",
       "      <td>1.900000</td>\n",
       "      <td>2.360000</td>\n",
       "      <td>19.400000</td>\n",
       "      <td>98.000000</td>\n",
       "      <td>2.230000</td>\n",
       "      <td>2.140000</td>\n",
       "      <td>0.340000</td>\n",
       "      <td>1.560000</td>\n",
       "      <td>4.800000</td>\n",
       "      <td>0.970000</td>\n",
       "      <td>2.810000</td>\n",
       "      <td>675.000000</td>\n",
       "    </tr>\n",
       "    <tr>\n",
       "      <th>75%</th>\n",
       "      <td>13.690000</td>\n",
       "      <td>3.170000</td>\n",
       "      <td>2.540000</td>\n",
       "      <td>21.500000</td>\n",
       "      <td>108.000000</td>\n",
       "      <td>2.800000</td>\n",
       "      <td>2.880000</td>\n",
       "      <td>0.450000</td>\n",
       "      <td>1.960000</td>\n",
       "      <td>6.130000</td>\n",
       "      <td>1.120000</td>\n",
       "      <td>3.200000</td>\n",
       "      <td>970.000000</td>\n",
       "    </tr>\n",
       "    <tr>\n",
       "      <th>max</th>\n",
       "      <td>14.830000</td>\n",
       "      <td>5.800000</td>\n",
       "      <td>3.230000</td>\n",
       "      <td>30.000000</td>\n",
       "      <td>162.000000</td>\n",
       "      <td>3.880000</td>\n",
       "      <td>5.080000</td>\n",
       "      <td>0.660000</td>\n",
       "      <td>3.580000</td>\n",
       "      <td>10.800000</td>\n",
       "      <td>1.710000</td>\n",
       "      <td>4.000000</td>\n",
       "      <td>1547.000000</td>\n",
       "    </tr>\n",
       "  </tbody>\n",
       "</table>\n",
       "</div>"
      ],
      "text/plain": [
       "          alcohol  malic_acid         ash  alcalinity_of_ash   magnesium  \\\n",
       "count  133.000000  133.000000  133.000000         133.000000  133.000000   \n",
       "mean    12.972857    2.386842    2.362180          19.433835  100.759398   \n",
       "std      0.829993    1.098905    0.280606           3.467312   14.999571   \n",
       "min     11.030000    0.890000    1.360000          10.600000   70.000000   \n",
       "25%     12.290000    1.640000    2.210000          17.200000   88.000000   \n",
       "50%     12.990000    1.900000    2.360000          19.400000   98.000000   \n",
       "75%     13.690000    3.170000    2.540000          21.500000  108.000000   \n",
       "max     14.830000    5.800000    3.230000          30.000000  162.000000   \n",
       "\n",
       "       total_phenols  flavanoids  nonflavanoid_phenols  proanthocyanins  \\\n",
       "count     133.000000  133.000000            133.000000       133.000000   \n",
       "mean        2.277068    2.021203              0.363534         1.608647   \n",
       "std         0.645696    1.005537              0.126923         0.576964   \n",
       "min         0.980000    0.340000              0.130000         0.420000   \n",
       "25%         1.700000    1.200000              0.260000         1.250000   \n",
       "50%         2.230000    2.140000              0.340000         1.560000   \n",
       "75%         2.800000    2.880000              0.450000         1.960000   \n",
       "max         3.880000    5.080000              0.660000         3.580000   \n",
       "\n",
       "       color_intensity         hue  od280/od315_of_diluted_wines      proline  \n",
       "count       133.000000  133.000000                    133.000000   133.000000  \n",
       "mean          5.017594    0.959444                      2.610000   742.992481  \n",
       "std           2.202516    0.234545                      0.729961   306.867593  \n",
       "min           1.740000    0.480000                      1.270000   278.000000  \n",
       "25%           3.250000    0.780000                      1.830000   500.000000  \n",
       "50%           4.800000    0.970000                      2.810000   675.000000  \n",
       "75%           6.130000    1.120000                      3.200000   970.000000  \n",
       "max          10.800000    1.710000                      4.000000  1547.000000  "
      ]
     },
     "execution_count": 8,
     "metadata": {},
     "output_type": "execute_result"
    }
   ],
   "source": [
    "X_train.describe()"
   ]
  },
  {
   "cell_type": "markdown",
   "metadata": {
    "id": "6VANARbT0Vu5"
   },
   "source": [
    "## Задание 3"
   ]
  },
  {
   "cell_type": "markdown",
   "metadata": {
    "id": "e1dfCiISo_GH"
   },
   "source": [
    "KNN требует того, чтобы все признаки были одного масштаба, поэтому масштабируйте данные при помощи `StandardScaler`.\n",
    "\n",
    "Напоминаем, что обучать метод нужно только по тренировочным данным, а применять и к трейну, и к тесту.\n",
    "\n",
    "После применения `StandardScaler` преобразуйте `X_train` и `X_test` к типу `pd.DataFrame`, названия новых объектов оставьте `X_train` и `X_test`."
   ]
  },
  {
   "cell_type": "code",
   "execution_count": 48,
   "metadata": {
    "id": "IMWxZOLMpLg_"
   },
   "outputs": [],
   "source": [
    "from sklearn.preprocessing import StandardScaler\n",
    "\n",
    "standart=StandardScaler()\n",
    "standart.fit(X_train)\n",
    "\n",
    "X_train_scaled=standart.transform(X_train)\n",
    "X_test_scaled=standart.transform(X_test)\n",
    "\n",
    "X_train=pd.DataFrame(X_train_scaled,columns=X_train.columns)\n",
    "X_test=pd.DataFrame(X_test_scaled,columns=X_test.columns)"
   ]
  },
  {
   "cell_type": "markdown",
   "metadata": {
    "id": "wfjxuX1hyOpd"
   },
   "source": [
    "Обучите KNN с параметрами по умолчанию на тренировочных данных и сделайте предсказание на тесте."
   ]
  },
  {
   "cell_type": "code",
   "execution_count": 14,
   "metadata": {
    "id": "VeyYEAO2yQhL"
   },
   "outputs": [],
   "source": [
    "from sklearn.neighbors import KNeighborsClassifier\n",
    "\n",
    "model=KNeighborsClassifier()\n",
    "model.fit(X_train,y_train)\n",
    "y_pred=model.predict(X_test)"
   ]
  },
  {
   "cell_type": "markdown",
   "metadata": {
    "id": "E18N3QNMrQLw"
   },
   "source": [
    "Будем измерять качество модели по метрике weighted $f1$-score.\n",
    "\n",
    "Чтобы выбрать тип усреднения (micro, macro, weighted) в функции `f1_score` необходимо задать этот тип в гиперпараметре `average`.\n",
    "\n",
    "Вычислите $f1$-score на тестовых данных."
   ]
  },
  {
   "cell_type": "markdown",
   "metadata": {
    "id": "aLaSCeCf0uPd"
   },
   "source": [
    "**Вопрос:**\n",
    "\n",
    "Чему равен $f1$-score на тестовых данных?"
   ]
  },
  {
   "cell_type": "code",
   "execution_count": 15,
   "metadata": {
    "id": "TdhIWbULrnPv"
   },
   "outputs": [
    {
     "data": {
      "text/plain": [
       "0.9550512333965844"
      ]
     },
     "execution_count": 15,
     "metadata": {},
     "output_type": "execute_result"
    }
   ],
   "source": [
    "from sklearn.metrics import f1_score\n",
    "\n",
    "f1_score(y_test, y_pred, average='weighted')"
   ]
  },
  {
   "cell_type": "markdown",
   "metadata": {
    "id": "kco77ab200s9"
   },
   "source": [
    "## Задание 4"
   ]
  },
  {
   "cell_type": "markdown",
   "metadata": {
    "id": "BONbGWi1yVIQ"
   },
   "source": [
    "Попробуем улучшить модель.\n",
    "\n",
    "Подберите оптимальное количество соседей (`n_neighbors`) из диапазона *от 3 до 30 с шагом 2* и веса соседей (`weights`):  \n",
    "`uniform`, `distance` по кросс-валидации с тремя фолдами на тренировочных данных.\n",
    "\n",
    "Используйте `GridSearchCV` и метрику `f1_weighted`."
   ]
  },
  {
   "cell_type": "code",
   "execution_count": 25,
   "metadata": {
    "id": "6nM_wc6iydB-"
   },
   "outputs": [
    {
     "name": "stdout",
     "output_type": "stream",
     "text": [
      "KNeighborsClassifier(n_neighbors=19, weights='distance')\n"
     ]
    }
   ],
   "source": [
    "from sklearn.model_selection import GridSearchCV\n",
    "\n",
    "neigbour=np.arange(3,30,2)\n",
    "param={'n_neighbors':neigbour,\n",
    "       'weights':['uniform', 'distance']}\n",
    "model=GridSearchCV(KNeighborsClassifier(),param,cv=3,scoring='f1_weighted')\n",
    "model.fit(X_train,y_train)\n",
    "\n",
    "print(model.best_estimator_) # качество наилучшей модели (с оптимальными гиперпараметрами)"
   ]
  },
  {
   "cell_type": "markdown",
   "metadata": {
    "id": "b6mM-XXps5Af"
   },
   "source": [
    "Возьмите best_estimator_, полученный при обучении GridSearchCV и с помощью него  \n",
    "сделайте предсказание на тесте и вычислите метрику `f1_weighted`."
   ]
  },
  {
   "cell_type": "code",
   "execution_count": 22,
   "metadata": {
    "id": "6Sn00daNtGWd"
   },
   "outputs": [
    {
     "data": {
      "text/plain": [
       "0.9550512333965844"
      ]
     },
     "execution_count": 22,
     "metadata": {},
     "output_type": "execute_result"
    }
   ],
   "source": [
    "model=KNeighborsClassifier(n_neighbors=19, weights='distance')\n",
    "model.fit(X_train,y_train)\n",
    "y_pred=model.predict(X_test)\n",
    "f1_score(y_test, y_pred, average='weighted')"
   ]
  },
  {
   "cell_type": "markdown",
   "metadata": {
    "id": "HzAQzK3JtT7h"
   },
   "source": [
    "**Вопрос:**\n",
    "\n",
    "Удалось ли при помощи подбора гиперпараметров улучшить качество модели на тестовых данных?"
   ]
  },
  {
   "cell_type": "markdown",
   "metadata": {
    "id": "iLzHwlkj1cjs"
   },
   "source": [
    "## Задание 5"
   ]
  },
  {
   "cell_type": "markdown",
   "metadata": {
    "id": "tdm2A5SSylYQ"
   },
   "source": [
    "Выведите на экран матрицу ошибок.\n",
    "\n",
    "Используйте модель с подобранными при помощи `GridSearch` гиперпараметрами.\n"
   ]
  },
  {
   "cell_type": "markdown",
   "metadata": {
    "id": "FHgD2EQG1i1V"
   },
   "source": [
    "**Вопрос:**  \n",
    "По этой матрице определите, какие классы между собой путает модель?"
   ]
  },
  {
   "cell_type": "code",
   "execution_count": 26,
   "metadata": {
    "id": "I5u0A5a0yqge"
   },
   "outputs": [
    {
     "data": {
      "text/plain": [
       "array([[15,  0,  0],\n",
       "       [ 1, 16,  1],\n",
       "       [ 0,  0, 12]])"
      ]
     },
     "execution_count": 26,
     "metadata": {},
     "output_type": "execute_result"
    }
   ],
   "source": [
    "from sklearn.metrics import confusion_matrix\n",
    "\n",
    "confusion_matrix(y_test,y_pred)"
   ]
  },
  {
   "cell_type": "markdown",
   "metadata": {
    "id": "9qKKGd2eyq6E"
   },
   "source": [
    "## Бонус (эксперименты с LSH)"
   ]
  },
  {
   "cell_type": "markdown",
   "metadata": {
    "id": "l-_YTZzg1qnq"
   },
   "source": [
    "Скопируйте все функции из [ноутбука в уроке \"Быстрый поиск соседей\"](https://colab.research.google.com/drive/181MMOcTnzdMVzJr0pWzqtEG0-BV9BIHH)."
   ]
  },
  {
   "cell_type": "code",
   "execution_count": 35,
   "metadata": {
    "id": "ia2GsrwKy5co"
   },
   "outputs": [],
   "source": [
    "def knn_search(query, data, k=5):\n",
    "\n",
    "    dists = np.sqrt(np.sum((data - query) ** 2, axis=1))  # вычисляем расстояния от объекта query до всех точек датасета\n",
    "    inds = np.argsort(dists)  # сортируем по возрастанию расстояний\n",
    "    inds_k = inds[:k]         # берем top-k точек с наименьшими расстояниями\n",
    "    return data[inds_k], dists[inds_k]"
   ]
  },
  {
   "cell_type": "markdown",
   "metadata": {
    "id": "nYFSYav3vzVC"
   },
   "source": [
    "При помощи `knn_search` найдите ближайших соседей к вину `X_test.iloc[0]` в **тренировочных** данных.\n",
    "\n",
    "Обратите внимание, что функция `knn_search` принимает на вход `np.array`, а не `pd.DataFrame`. Поэтому переведите аргументы в `np.array`, приписав к необходимому объекту $X$: `X.values`."
   ]
  },
  {
   "cell_type": "code",
   "execution_count": 51,
   "metadata": {},
   "outputs": [],
   "source": [
    "data,neig=knn_search(X_test.iloc[0].values, X_train.values, k=5)"
   ]
  },
  {
   "cell_type": "markdown",
   "metadata": {
    "id": "y86BRzABvLHB"
   },
   "source": [
    "Выведите на экран признаки объекта `X_test.iloc[0]` и признаки ближайшего найденного соседа."
   ]
  },
  {
   "cell_type": "code",
   "execution_count": 53,
   "metadata": {
    "id": "Mi18Sp2WvQYE"
   },
   "outputs": [
    {
     "name": "stdout",
     "output_type": "stream",
     "text": [
      "alcohol                         0.806832\n",
      "malic_acid                      0.651425\n",
      "ash                             0.707637\n",
      "alcalinity_of_ash              -1.225688\n",
      "magnesium                       1.019911\n",
      "total_phenols                   0.657478\n",
      "flavanoids                      1.007035\n",
      "nonflavanoid_phenols           -1.530581\n",
      "proanthocyanins                 0.089343\n",
      "color_intensity                 0.037556\n",
      "hue                             0.002381\n",
      "od280/od315_of_diluted_wines    1.031337\n",
      "proline                         0.333672\n",
      "Name: 0, dtype: float64 [ 1.50827494  1.46438454  0.52877788 -1.80468392  1.82295821  1.12384935\n",
      "  1.01701759 -1.2933229   0.82004316  0.03755595 -0.29719787  1.26510707\n",
      "  0.05563253]\n"
     ]
    }
   ],
   "source": [
    "print(X_test.iloc[0],data[0])"
   ]
  },
  {
   "cell_type": "markdown",
   "metadata": {
    "id": "3aeCTiYnx2_q"
   },
   "source": [
    "**Вопрос:**\n",
    "\n",
    "Можно ли сказать, что в тренировочных данных есть вино, почти такое же как `X_test.iloc[0]`? (все признаки почти одинаковые)\n",
    "\n",
    "Какое расстояние между объектом запроса и первым ближайшим соседом?"
   ]
  },
  {
   "cell_type": "markdown",
   "metadata": {
    "id": "zWEBfyAay53O"
   },
   "source": [
    "Теперь найдите ближайшего соседа при помощи `approx_knn_search`."
   ]
  },
  {
   "cell_type": "code",
   "execution_count": 54,
   "metadata": {
    "id": "ezxEITyiy-1a"
   },
   "outputs": [
    {
     "name": "stdout",
     "output_type": "stream",
     "text": [
      "CPU times: user 11 µs, sys: 1e+03 ns, total: 12 µs\n",
      "Wall time: 17.9 µs\n"
     ]
    },
    {
     "data": {
      "text/plain": [
       "1.787332098866276"
      ]
     },
     "execution_count": 54,
     "metadata": {},
     "output_type": "execute_result"
    }
   ],
   "source": [
    "%%time\n",
    "\n",
    "neig[0]"
   ]
  },
  {
   "cell_type": "markdown",
   "metadata": {
    "id": "sCPx6pgnwRqX"
   },
   "source": [
    "Ближайший сосед при помощи KNN+LSH может быть найден не точно или не с первого запуска.  \n",
    "Запустите последнюю ячейку несколько раз и убедитесь, что ближайший сосед находится верно за несколько запусков."
   ]
  },
  {
   "cell_type": "markdown",
   "metadata": {
    "id": "Rpj5qiwi2IJq"
   },
   "source": [
    "**Вопрос:**\n",
    "\n",
    "Запустите `knn_search` и `appox_knn_search` несколько раз и сравните время запусков. Какой из подходов в этой задаче работает быстрее?"
   ]
  },
  {
   "cell_type": "code",
   "execution_count": 55,
   "metadata": {},
   "outputs": [],
   "source": [
    "def generate_hyperplanes(data, bucket_size=16):\n",
    "    m = data.shape[0]            # число объектов\n",
    "    n = data.shape[1]            # число признаков\n",
    "    b = m // bucket_size         # количество корзин\n",
    "    h = int(np.log2(b))          # количество гиперплоскостей\n",
    "    H = rng.normal(size=(h, n))  # гиперплоскости, заданные своими нормалями\n",
    "    return H"
   ]
  },
  {
   "cell_type": "code",
   "execution_count": 56,
   "metadata": {},
   "outputs": [],
   "source": [
    "def hamming_hash(data, hyperplanes):\n",
    "    b = len(hyperplanes)\n",
    "    hash_key = (data @ hyperplanes.T) >= 0\n",
    "    \n",
    "    dec_vals = np.array([2 ** i for i in range(b)], dtype=int)\n",
    "    hash_key = hash_key @ dec_vals\n",
    "    \n",
    "    return hash_key"
   ]
  },
  {
   "cell_type": "code",
   "execution_count": 57,
   "metadata": {},
   "outputs": [],
   "source": [
    "def locality_sensitive_hash(data, hyperplanes):\n",
    "    hash_vals = hamming_hash(data, hyperplanes)\n",
    "    hash_table = {}\n",
    "    for i, v in enumerate(hash_vals):\n",
    "        if v not in hash_table:\n",
    "            hash_table[v] = set()\n",
    "        hash_table[v].add(i)\n",
    "        \n",
    "    return hash_table"
   ]
  },
  {
   "cell_type": "code",
   "execution_count": 58,
   "metadata": {},
   "outputs": [],
   "source": [
    "def approx_knn_search(query, data, k=5, bucket_size=16):\n",
    "    candidates = set()\n",
    "\n",
    "    hyperplanes = generate_hyperplanes(data)\n",
    "    hash_table = locality_sensitive_hash(data, hyperplanes) # формируем хеш-таблицу по датасету\n",
    "\n",
    "    query_hash = hamming_hash(query, hyperplanes)\n",
    "    if query_hash in hash_table:\n",
    "        candidates = candidates.union(hash_table[query_hash])\n",
    "    candidates = np.stack([data[i] for i in candidates], axis=0) # находим кандидатов = объекты, попадающие с query в одну корзину\n",
    "\n",
    "    return knn_search(query, candidates, k=k) # с помощью KNN ищем ближайших соседей только из найденных кандидатов"
   ]
  },
  {
   "cell_type": "code",
   "execution_count": 62,
   "metadata": {},
   "outputs": [
    {
     "name": "stdout",
     "output_type": "stream",
     "text": [
      "CPU times: user 1.29 ms, sys: 3.3 ms, total: 4.59 ms\n",
      "Wall time: 4.32 ms\n"
     ]
    }
   ],
   "source": [
    "%%time\n",
    "data,neig=knn_search(X_test.iloc[0].values, X_train.values, k=5)"
   ]
  },
  {
   "cell_type": "code",
   "execution_count": 63,
   "metadata": {},
   "outputs": [
    {
     "name": "stdout",
     "output_type": "stream",
     "text": [
      "CPU times: user 1.05 ms, sys: 1.11 ms, total: 2.16 ms\n",
      "Wall time: 2.04 ms\n"
     ]
    }
   ],
   "source": [
    "%%time\n",
    "data,neig=approx_knn_search(X_test.iloc[0].values, X_train.values, k=5, bucket_size=16)"
   ]
  },
  {
   "cell_type": "code",
   "execution_count": null,
   "metadata": {},
   "outputs": [],
   "source": []
  }
 ],
 "metadata": {
  "colab": {
   "provenance": []
  },
  "kernelspec": {
   "display_name": "Python 3 (ipykernel)",
   "language": "python",
   "name": "python3"
  },
  "language_info": {
   "codemirror_mode": {
    "name": "ipython",
    "version": 3
   },
   "file_extension": ".py",
   "mimetype": "text/x-python",
   "name": "python",
   "nbconvert_exporter": "python",
   "pygments_lexer": "ipython3",
   "version": "3.11.7"
  }
 },
 "nbformat": 4,
 "nbformat_minor": 4
}
