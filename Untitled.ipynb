{
 "cells": [
  {
   "cell_type": "code",
   "execution_count": 1,
   "id": "1497f07d-e92e-4554-979d-a027ea5fd337",
   "metadata": {},
   "outputs": [
    {
     "name": "stdout",
     "output_type": "stream",
     "text": [
      "   feature1  feature2  feature1^2  feature1 feature2  feature2^2\n",
      "0       1.0       4.0         1.0                4.0        16.0\n",
      "1       2.0       5.0         4.0               10.0        25.0\n",
      "2       3.0       6.0         9.0               18.0        36.0\n"
     ]
    }
   ],
   "source": [
    "import pandas as pd\n",
    "from sklearn.preprocessing import PolynomialFeatures\n",
    "\n",
    "# Пример DataFrame\n",
    "df = pd.DataFrame({\n",
    "    'feature1': [1, 2, 3],\n",
    "    'feature2': [4, 5, 6]\n",
    "})\n",
    "\n",
    "# Создаем объект PolynomialFeatures с нужной степенью\n",
    "poly = PolynomialFeatures(degree=2, include_bias=False)\n",
    "\n",
    "# Преобразуем признаки\n",
    "poly_features = poly.fit_transform(df)\n",
    "\n",
    "# Преобразуем результат обратно в DataFrame\n",
    "poly_df = pd.DataFrame(poly_features, columns=poly.get_feature_names_out(df.columns))\n",
    "\n",
    "print(poly_df)"
   ]
  },
  {
   "cell_type": "code",
   "execution_count": 2,
   "id": "a7166d7e-e060-4799-a43d-a562c8b876a7",
   "metadata": {},
   "outputs": [
    {
     "data": {
      "text/plain": [
       "array([[ 1.,  2.,  3.,  1.,  2.,  3.,  4.,  6.,  9.],\n",
       "       [ 4.,  5.,  6., 16., 20., 24., 25., 30., 36.],\n",
       "       [ 7.,  8.,  9., 49., 56., 63., 64., 72., 81.]])"
      ]
     },
     "execution_count": 2,
     "metadata": {},
     "output_type": "execute_result"
    }
   ],
   "source": [
    "import numpy as np\n",
    "\n",
    "# Создание матрицы 3x3\n",
    "matrix_3x3 = np.array([[1, 2, 3],\n",
    "                        [4, 5, 6],\n",
    "                        [7, 8, 9]])\n",
    "\n",
    "poly = PolynomialFeatures(degree=2, include_bias=False)\n",
    "poly_features = poly.fit_transform(matrix_3x3)\n",
    "poly_features"
   ]
  },
  {
   "cell_type": "code",
   "execution_count": 4,
   "id": "b9ab446c-f3d1-460a-ac97-e30dd3b8e41b",
   "metadata": {},
   "outputs": [
    {
     "data": {
      "text/plain": [
       "1.3571692094239531"
      ]
     },
     "execution_count": 4,
     "metadata": {},
     "output_type": "execute_result"
    }
   ],
   "source": [
    "def gradient_descent(x0, eta, epsilon, num_iterations):\n",
    "    x = x0\n",
    "    for i in range(num_iterations):\n",
    "        grad = 4 * x**3 - 10  # производная f'(x)\n",
    "        if abs(grad) < epsilon:  # условие остановки\n",
    "            break\n",
    "        x = x - eta * grad  # обновляем x\n",
    "    return x\n",
    "\n",
    "# Параметры задачи\n",
    "x0 = 5\n",
    "eta = 0.01\n",
    "epsilon = 0.001\n",
    "num_iterations = 10000\n",
    "\n",
    "# Поиск минимума\n",
    "x_min = gradient_descent(x0, eta, epsilon, num_iterations)\n",
    "\n",
    "# Выводим округленное значение до сотых\n",
    "x_min"
   ]
  },
  {
   "cell_type": "code",
   "execution_count": null,
   "id": "efac3c0d-e357-4d4c-94a8-627cb518588a",
   "metadata": {},
   "outputs": [],
   "source": []
  }
 ],
 "metadata": {
  "kernelspec": {
   "display_name": "Python 3 (ipykernel)",
   "language": "python",
   "name": "python3"
  },
  "language_info": {
   "codemirror_mode": {
    "name": "ipython",
    "version": 3
   },
   "file_extension": ".py",
   "mimetype": "text/x-python",
   "name": "python",
   "nbconvert_exporter": "python",
   "pygments_lexer": "ipython3",
   "version": "3.11.7"
  }
 },
 "nbformat": 4,
 "nbformat_minor": 5
}
