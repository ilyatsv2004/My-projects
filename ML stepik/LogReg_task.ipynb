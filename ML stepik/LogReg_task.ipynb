{
 "cells": [
  {
   "cell_type": "markdown",
   "metadata": {
    "id": "peyKH6cGW0lN"
   },
   "source": [
    "# Логистическая регрессия"
   ]
  },
  {
   "cell_type": "markdown",
   "metadata": {
    "id": "Q7ytv2GMjpGZ"
   },
   "source": [
    "Обучим логистическую регрессию для предсказания того, откликнется клиент  \n",
    "на рекламное предложение (target = 1) или нет (target = 0)."
   ]
  },
  {
   "cell_type": "markdown",
   "metadata": {
    "id": "x3mt2yCHYO0-"
   },
   "source": [
    "## Подлючение библиотек, загрузка и обзор данных"
   ]
  },
  {
   "cell_type": "code",
   "execution_count": 32,
   "metadata": {
    "id": "aPDB2wP8jndz"
   },
   "outputs": [],
   "source": [
    "import matplotlib.pyplot as plt\n",
    "import numpy as np\n",
    "import pandas as pd\n",
    "\n",
    "import warnings\n",
    "warnings.filterwarnings(\"ignore\")"
   ]
  },
  {
   "cell_type": "code",
   "execution_count": 2,
   "metadata": {
    "id": "7Zw7RmtAjn8O"
   },
   "outputs": [],
   "source": [
    "data = pd.read_csv('https://raw.githubusercontent.com/evgpat/edu_stepik_practical_ml/main/datasets/clients_data.csv')"
   ]
  },
  {
   "cell_type": "code",
   "execution_count": 3,
   "metadata": {
    "id": "3QbRGWqJjxOv"
   },
   "outputs": [
    {
     "data": {
      "text/html": [
       "<div>\n",
       "<style scoped>\n",
       "    .dataframe tbody tr th:only-of-type {\n",
       "        vertical-align: middle;\n",
       "    }\n",
       "\n",
       "    .dataframe tbody tr th {\n",
       "        vertical-align: top;\n",
       "    }\n",
       "\n",
       "    .dataframe thead th {\n",
       "        text-align: right;\n",
       "    }\n",
       "</style>\n",
       "<table border=\"1\" class=\"dataframe\">\n",
       "  <thead>\n",
       "    <tr style=\"text-align: right;\">\n",
       "      <th></th>\n",
       "      <th>AGE</th>\n",
       "      <th>SOCSTATUS_WORK_FL</th>\n",
       "      <th>SOCSTATUS_PENS_FL</th>\n",
       "      <th>GENDER</th>\n",
       "      <th>CHILD_TOTAL</th>\n",
       "      <th>DEPENDANTS</th>\n",
       "      <th>PERSONAL_INCOME</th>\n",
       "      <th>LOAN_NUM_TOTAL</th>\n",
       "      <th>LOAN_NUM_CLOSED</th>\n",
       "      <th>LOAN_DLQ_NUM</th>\n",
       "      <th>TARGET</th>\n",
       "    </tr>\n",
       "  </thead>\n",
       "  <tbody>\n",
       "    <tr>\n",
       "      <th>0</th>\n",
       "      <td>49</td>\n",
       "      <td>1</td>\n",
       "      <td>0</td>\n",
       "      <td>1</td>\n",
       "      <td>2</td>\n",
       "      <td>1</td>\n",
       "      <td>5000.0</td>\n",
       "      <td>1</td>\n",
       "      <td>1</td>\n",
       "      <td>2</td>\n",
       "      <td>0</td>\n",
       "    </tr>\n",
       "    <tr>\n",
       "      <th>1</th>\n",
       "      <td>32</td>\n",
       "      <td>1</td>\n",
       "      <td>0</td>\n",
       "      <td>1</td>\n",
       "      <td>3</td>\n",
       "      <td>3</td>\n",
       "      <td>12000.0</td>\n",
       "      <td>1</td>\n",
       "      <td>1</td>\n",
       "      <td>1</td>\n",
       "      <td>0</td>\n",
       "    </tr>\n",
       "    <tr>\n",
       "      <th>2</th>\n",
       "      <td>52</td>\n",
       "      <td>1</td>\n",
       "      <td>0</td>\n",
       "      <td>1</td>\n",
       "      <td>4</td>\n",
       "      <td>0</td>\n",
       "      <td>9000.0</td>\n",
       "      <td>2</td>\n",
       "      <td>1</td>\n",
       "      <td>0</td>\n",
       "      <td>0</td>\n",
       "    </tr>\n",
       "    <tr>\n",
       "      <th>3</th>\n",
       "      <td>39</td>\n",
       "      <td>1</td>\n",
       "      <td>0</td>\n",
       "      <td>1</td>\n",
       "      <td>1</td>\n",
       "      <td>1</td>\n",
       "      <td>25000.0</td>\n",
       "      <td>1</td>\n",
       "      <td>1</td>\n",
       "      <td>3</td>\n",
       "      <td>0</td>\n",
       "    </tr>\n",
       "    <tr>\n",
       "      <th>4</th>\n",
       "      <td>30</td>\n",
       "      <td>1</td>\n",
       "      <td>0</td>\n",
       "      <td>0</td>\n",
       "      <td>0</td>\n",
       "      <td>0</td>\n",
       "      <td>12000.0</td>\n",
       "      <td>2</td>\n",
       "      <td>1</td>\n",
       "      <td>2</td>\n",
       "      <td>0</td>\n",
       "    </tr>\n",
       "  </tbody>\n",
       "</table>\n",
       "</div>"
      ],
      "text/plain": [
       "   AGE  SOCSTATUS_WORK_FL  SOCSTATUS_PENS_FL  GENDER  CHILD_TOTAL  DEPENDANTS  \\\n",
       "0   49                  1                  0       1            2           1   \n",
       "1   32                  1                  0       1            3           3   \n",
       "2   52                  1                  0       1            4           0   \n",
       "3   39                  1                  0       1            1           1   \n",
       "4   30                  1                  0       0            0           0   \n",
       "\n",
       "   PERSONAL_INCOME  LOAN_NUM_TOTAL  LOAN_NUM_CLOSED  LOAN_DLQ_NUM  TARGET  \n",
       "0           5000.0               1                1             2       0  \n",
       "1          12000.0               1                1             1       0  \n",
       "2           9000.0               2                1             0       0  \n",
       "3          25000.0               1                1             3       0  \n",
       "4          12000.0               2                1             2       0  "
      ]
     },
     "execution_count": 3,
     "metadata": {},
     "output_type": "execute_result"
    }
   ],
   "source": [
    "data.head()"
   ]
  },
  {
   "cell_type": "code",
   "execution_count": 5,
   "metadata": {
    "id": "bkG1LjB0s81d"
   },
   "outputs": [],
   "source": [
    "from sklearn.model_selection import train_test_split\n",
    "\n",
    "X = data.drop('TARGET', axis=1)\n",
    "y = data['TARGET']\n",
    "\n",
    "Xtrain, Xtest, ytrain, ytest = train_test_split(X, y, train_size=0.7, random_state=123)"
   ]
  },
  {
   "cell_type": "markdown",
   "metadata": {
    "id": "C78zRrXtYLbZ"
   },
   "source": [
    "## Практика"
   ]
  },
  {
   "cell_type": "markdown",
   "metadata": {
    "id": "-4z9iGIAmcNA"
   },
   "source": [
    "**Задание**  \n",
    "Выведите на экран количество объектов каждого класса. Сколько процентов объектов относятся к положительному классу?  \n",
    "Ответ округлите до целого числа (например, если доля объектов положительного класса равна 0.412, в ответ запишите 41,  \n",
    "имея в виду 41 процент)."
   ]
  },
  {
   "cell_type": "code",
   "execution_count": 9,
   "metadata": {
    "id": "K2-WIJismssr"
   },
   "outputs": [
    {
     "data": {
      "text/plain": [
       "0.8809695854956316"
      ]
     },
     "execution_count": 9,
     "metadata": {},
     "output_type": "execute_result"
    }
   ],
   "source": [
    "y[y==0].count()/y.shape[0]"
   ]
  },
  {
   "cell_type": "markdown",
   "metadata": {
    "id": "zGmfshG9rmBn"
   },
   "source": [
    "Обучим логистическую регрессию с параметрами по умолчанию."
   ]
  },
  {
   "cell_type": "code",
   "execution_count": 10,
   "metadata": {
    "id": "7tOX78zbrPHB"
   },
   "outputs": [],
   "source": [
    "from sklearn.linear_model import LogisticRegression\n",
    "\n",
    "lr = LogisticRegression()"
   ]
  },
  {
   "cell_type": "code",
   "execution_count": 11,
   "metadata": {
    "id": "gvNVW51Erzpm"
   },
   "outputs": [],
   "source": [
    "lr.fit(Xtrain, ytrain)\n",
    "\n",
    "prediction = lr.predict(Xtest)"
   ]
  },
  {
   "cell_type": "markdown",
   "metadata": {
    "id": "R8QvDicCUicz"
   },
   "source": [
    "Метрику accuracy не стоит использовать при сильном дисбалансе классов. Поэтому посчитайте f1_score для оценки качества модели на тестовых данных.\n",
    "\n",
    "f1_score принимает значения от 0 до 1. Чем ближе к 1, тем лучше модель."
   ]
  },
  {
   "cell_type": "code",
   "execution_count": 13,
   "metadata": {
    "id": "gxnxFzSxlfmQ"
   },
   "outputs": [
    {
     "data": {
      "text/plain": [
       "0.0"
      ]
     },
     "execution_count": 13,
     "metadata": {},
     "output_type": "execute_result"
    }
   ],
   "source": [
    "from sklearn.metrics import f1_score\n",
    "\n",
    "f1_score(prediction,ytest)"
   ]
  },
  {
   "cell_type": "markdown",
   "metadata": {
    "id": "czwpRRsHorHu"
   },
   "source": [
    "**Вопрос**  \n",
    "Чему равен `f1_score`?"
   ]
  },
  {
   "cell_type": "markdown",
   "metadata": {
    "id": "FF1I6KbTomdK"
   },
   "source": [
    "Удивительно, да?\n",
    "\n",
    "Давайте разберемся, почему качество такое низкое."
   ]
  },
  {
   "cell_type": "markdown",
   "metadata": {
    "id": "CvWGh7m9sTKM"
   },
   "source": [
    "Предскажем вероятности классов с помощью обученной логистической регрессии на тестовых данных."
   ]
  },
  {
   "cell_type": "code",
   "execution_count": 14,
   "metadata": {
    "id": "LNqjcxrwsLzl"
   },
   "outputs": [
    {
     "data": {
      "text/plain": [
       "array([[0.86331972, 0.13668028],\n",
       "       [0.86305957, 0.13694043],\n",
       "       [0.80967732, 0.19032268],\n",
       "       [0.73110167, 0.26889833],\n",
       "       [0.87780414, 0.12219586],\n",
       "       [0.96122864, 0.03877136],\n",
       "       [0.95965491, 0.04034509],\n",
       "       [0.96560659, 0.03439341],\n",
       "       [0.92114871, 0.07885129],\n",
       "       [0.9349701 , 0.0650299 ]])"
      ]
     },
     "execution_count": 14,
     "metadata": {},
     "output_type": "execute_result"
    }
   ],
   "source": [
    "probs_test = lr.predict_proba(Xtest)\n",
    "\n",
    "probs_test[:10]"
   ]
  },
  {
   "cell_type": "markdown",
   "metadata": {
    "id": "wmASiDk_pPfK"
   },
   "source": [
    "По вероятностям видно, что вероятности отнесения к положительному классу очень низкие.\n",
    "\n",
    "Попробуем изменить порог для перевода вероятности в классы."
   ]
  },
  {
   "cell_type": "markdown",
   "metadata": {
    "id": "vJYfPb5yp1N6"
   },
   "source": [
    "**Вопрос**  \n",
    "Чему равен `f1_score`, если все объекты с вероятностью не меньшей 0.1, относить к положительному классу?\n",
    "\n",
    "Ответ округлите до сотых."
   ]
  },
  {
   "cell_type": "code",
   "execution_count": 16,
   "metadata": {
    "id": "9A-GCeebqAdU"
   },
   "outputs": [
    {
     "data": {
      "text/plain": [
       "0.2469521725539231"
      ]
     },
     "execution_count": 16,
     "metadata": {},
     "output_type": "execute_result"
    }
   ],
   "source": [
    "new_predict=(probs_test[:,1]>0.1).astype(int)\n",
    "f1_score(new_predict,ytest)"
   ]
  },
  {
   "cell_type": "markdown",
   "metadata": {
    "id": "lIKKWKCFVBh1"
   },
   "source": [
    "У обученной модели можно посмотреть веса (как и в линейной регрессии).  \n",
    "Выведем на экран веса модели (`model.coef_`, `model.intercept_`)."
   ]
  },
  {
   "cell_type": "code",
   "execution_count": 17,
   "metadata": {
    "id": "zZ6NmMGIVE_D"
   },
   "outputs": [
    {
     "data": {
      "text/plain": [
       "(array([[-5.55214705e-02, -7.90868782e-04, -4.28172545e-04,\n",
       "         -1.07248154e-03, -1.34958177e-03, -4.95807875e-04,\n",
       "          1.13131722e-05, -1.80011616e-03, -1.26843809e-03,\n",
       "         -1.45283567e-05]]),\n",
       " array([-0.00115086]))"
      ]
     },
     "execution_count": 17,
     "metadata": {},
     "output_type": "execute_result"
    }
   ],
   "source": [
    "lr.coef_, lr.intercept_"
   ]
  },
  {
   "cell_type": "markdown",
   "metadata": {
    "id": "OVnkivI5qOLH"
   },
   "source": [
    "Создайте `pd.DataFrame`, где в первом столбце стоят названия признаков, а во втором - их веса (так удобнее анализировать результат).  \n",
    "Отсортируйте таблицу по убыванию весов.\n",
    "\n",
    "**Вопрос**  \n",
    "Какой признак имеет наибольший положительный вес?"
   ]
  },
  {
   "cell_type": "code",
   "execution_count": 27,
   "metadata": {},
   "outputs": [
    {
     "data": {
      "text/plain": [
       "array([-5.55214705e-02, -7.90868782e-04, -4.28172545e-04, -1.07248154e-03,\n",
       "       -1.34958177e-03, -4.95807875e-04,  1.13131722e-05, -1.80011616e-03,\n",
       "       -1.26843809e-03, -1.45283567e-05])"
      ]
     },
     "execution_count": 27,
     "metadata": {},
     "output_type": "execute_result"
    }
   ],
   "source": [
    "coef=lr.coef_[0]"
   ]
  },
  {
   "cell_type": "code",
   "execution_count": 44,
   "metadata": {
    "id": "0IhVjQWnqUi2"
   },
   "outputs": [
    {
     "data": {
      "text/html": [
       "<div>\n",
       "<style scoped>\n",
       "    .dataframe tbody tr th:only-of-type {\n",
       "        vertical-align: middle;\n",
       "    }\n",
       "\n",
       "    .dataframe tbody tr th {\n",
       "        vertical-align: top;\n",
       "    }\n",
       "\n",
       "    .dataframe thead th {\n",
       "        text-align: right;\n",
       "    }\n",
       "</style>\n",
       "<table border=\"1\" class=\"dataframe\">\n",
       "  <thead>\n",
       "    <tr style=\"text-align: right;\">\n",
       "      <th></th>\n",
       "      <th>AGE</th>\n",
       "      <th>SOCSTATUS_WORK_FL</th>\n",
       "      <th>SOCSTATUS_PENS_FL</th>\n",
       "      <th>GENDER</th>\n",
       "      <th>CHILD_TOTAL</th>\n",
       "      <th>DEPENDANTS</th>\n",
       "      <th>PERSONAL_INCOME</th>\n",
       "      <th>LOAN_NUM_TOTAL</th>\n",
       "      <th>LOAN_NUM_CLOSED</th>\n",
       "      <th>LOAN_DLQ_NUM</th>\n",
       "    </tr>\n",
       "  </thead>\n",
       "  <tbody>\n",
       "    <tr>\n",
       "      <th>0</th>\n",
       "      <td>-0.055521</td>\n",
       "      <td>-0.000791</td>\n",
       "      <td>-0.000428</td>\n",
       "      <td>-0.001072</td>\n",
       "      <td>-0.00135</td>\n",
       "      <td>-0.000496</td>\n",
       "      <td>0.000011</td>\n",
       "      <td>-0.0018</td>\n",
       "      <td>-0.001268</td>\n",
       "      <td>-0.000015</td>\n",
       "    </tr>\n",
       "  </tbody>\n",
       "</table>\n",
       "</div>"
      ],
      "text/plain": [
       "        AGE  SOCSTATUS_WORK_FL  SOCSTATUS_PENS_FL    GENDER  CHILD_TOTAL  \\\n",
       "0 -0.055521          -0.000791          -0.000428 -0.001072     -0.00135   \n",
       "\n",
       "   DEPENDANTS  PERSONAL_INCOME  LOAN_NUM_TOTAL  LOAN_NUM_CLOSED  LOAN_DLQ_NUM  \n",
       "0   -0.000496         0.000011         -0.0018        -0.001268     -0.000015  "
      ]
     },
     "execution_count": 44,
     "metadata": {},
     "output_type": "execute_result"
    }
   ],
   "source": [
    "dic=dict()\n",
    "coef=lr.coef_[0]\n",
    "for a,b in zip(Xtrain.columns,coef):\n",
    "    dic[a]=[b]\n",
    "\n",
    "df=pd.DataFrame(dic)\n",
    "df"
   ]
  },
  {
   "cell_type": "markdown",
   "metadata": {
    "id": "WNWrbhnLYFnZ"
   },
   "source": [
    "## Бонус"
   ]
  },
  {
   "cell_type": "markdown",
   "metadata": {
    "id": "dFsZU0ya2i70"
   },
   "source": [
    "**Задание 1**  \n",
    "Подберите порог для перевода вероятностей в классы, дающий максимальное значение `f1_score`."
   ]
  },
  {
   "cell_type": "code",
   "execution_count": 50,
   "metadata": {
    "id": "myf1uNxR2vJ6"
   },
   "outputs": [
    {
     "data": {
      "text/plain": [
       "{0.05: 0.23141967067200714,\n",
       " 0.07777777777777778: 0.23915401301518435,\n",
       " 0.10555555555555556: 0.24545454545454548,\n",
       " 0.13333333333333333: 0.24355414518048396,\n",
       " 0.1611111111111111: 0.2314300151591713,\n",
       " 0.18888888888888888: 0.22395833333333331,\n",
       " 0.21666666666666667: 0.183803457688808,\n",
       " 0.2444444444444444: 0.09166666666666667,\n",
       " 0.2722222222222222: 0.01748251748251748,\n",
       " 0.3: 0.01061946902654867}"
      ]
     },
     "execution_count": 50,
     "metadata": {},
     "output_type": "execute_result"
    }
   ],
   "source": [
    "porog=np.linspace(0.05,0.3,10)\n",
    "min=dict()\n",
    "for i in porog:\n",
    "     new_predict=(probs_test[:,1]>i).astype(int)\n",
    "     f_1=f1_score(new_predict,ytest)\n",
    "     min[i]=f_1\n",
    "min"
   ]
  },
  {
   "cell_type": "markdown",
   "metadata": {
    "id": "rlW4fTH_2xU7"
   },
   "source": [
    "**Задание 2**  \n",
    "Во вложенном цикле подберите одновременно коэффициент регуляризации `C` у логистической регрессии и порог для перевода вероятностей в классы, дающие максимальное значение `f1_score`.\n",
    "\n",
    "По-хорошему, чтобы не переобучиться, эти величины надо подбирать не по тесту, а по отдельной выборке.\n",
    "\n",
    "Поэтому разобъем данные изначально на три части: `Xtrain`, `Xval`, `Xtest`.\n",
    "\n",
    "*   В цикле при подборе `С` и порога будем обучаться по `Xtrain`, а предсказывать и измерять качество по `Xval`.\n",
    "\n",
    "*   Качество итоговой модели с найденными `C` и порогом измерьте по `Xtest`.\n",
    "\n",
    "Так не переобучимся!\n"
   ]
  },
  {
   "cell_type": "code",
   "execution_count": 52,
   "metadata": {
    "id": "euwCnWE_3Gke"
   },
   "outputs": [],
   "source": [
    "Xtrain_new, Xval, ytrain_new, yval = train_test_split(Xtrain, ytrain, train_size=0.7, random_state=123)\n",
    "\n",
    "alpha=np.logspace(-2,3,25)\n",
    "porog=np.linspace(0.03,0.2,10)\n",
    "\n",
    "qual=list()\n",
    "\n",
    "for a in alpha:\n",
    "    for i in porog:\n",
    "        model = LogisticRegression(C = a)\n",
    "        model.fit(Xtrain, ytrain)\n",
    "        prediction = model.predict_proba(Xval)\n",
    "\n",
    "        \n",
    "        new_predict=(prediction[:,1]>i).astype(int)\n",
    "        f_1=f1_score(new_predict,yval)\n",
    "\n",
    "        \n",
    "        qual.append([a,i,f_1])\n",
    "        "
   ]
  },
  {
   "cell_type": "code",
   "execution_count": 60,
   "metadata": {},
   "outputs": [
    {
     "data": {
      "text/plain": [
       "array([0.01      , 0.10555556, 0.2278481 ])"
      ]
     },
     "execution_count": 60,
     "metadata": {},
     "output_type": "execute_result"
    }
   ],
   "source": [
    "qual=np.array(qual)\n",
    "min_index = np.argmax(qual[:, 2])\n",
    "\n",
    "# Получаем строку с минимальным значением в третьем столбце\n",
    "min_value_row = qual[min_index]\n",
    "min_value_row "
   ]
  },
  {
   "cell_type": "code",
   "execution_count": 61,
   "metadata": {
    "id": "AVvUBwZ64Cbd"
   },
   "outputs": [
    {
     "data": {
      "text/plain": [
       "0.24481865284974091"
      ]
     },
     "execution_count": 61,
     "metadata": {},
     "output_type": "execute_result"
    }
   ],
   "source": [
    "model = LogisticRegression(C = 0.01 )\n",
    "\n",
    "model.fit(Xtrain, ytrain) # обучаемся на всех тренировочных данных\n",
    "\n",
    "prediction = model.predict_proba(Xtest)\n",
    "new_predict=(prediction[:,1]>0.105).astype(int)\n",
    "\n",
    "f1_score(new_predict,ytest)\n"
   ]
  }
 ],
 "metadata": {
  "colab": {
   "provenance": []
  },
  "kernelspec": {
   "display_name": "Python 3 (ipykernel)",
   "language": "python",
   "name": "python3"
  },
  "language_info": {
   "codemirror_mode": {
    "name": "ipython",
    "version": 3
   },
   "file_extension": ".py",
   "mimetype": "text/x-python",
   "name": "python",
   "nbconvert_exporter": "python",
   "pygments_lexer": "ipython3",
   "version": "3.11.7"
  }
 },
 "nbformat": 4,
 "nbformat_minor": 4
}
