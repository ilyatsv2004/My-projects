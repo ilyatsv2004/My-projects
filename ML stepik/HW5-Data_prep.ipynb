{
 "cells": [
  {
   "cell_type": "markdown",
   "metadata": {
    "id": "rlK2w1bKP0LV"
   },
   "source": [
    "# Обработка признаков"
   ]
  },
  {
   "cell_type": "markdown",
   "metadata": {
    "id": "A4FLq2z2gQPg"
   },
   "source": [
    "В этом домашнем задании вы будете решать задачу предсказания стоимости автомобилей по их различным характеристикам."
   ]
  },
  {
   "cell_type": "code",
   "execution_count": 557,
   "metadata": {
    "id": "yjbQ0vgCVeFB"
   },
   "outputs": [],
   "source": [
    "import pandas as pd\n",
    "\n",
    "RANDOM_STATE = 42"
   ]
  },
  {
   "cell_type": "code",
   "execution_count": 558,
   "metadata": {
    "id": "Ck9hQ3-oVki5"
   },
   "outputs": [],
   "source": [
    "df = pd.read_csv(\"https://raw.githubusercontent.com/evgpat/edu_stepik_practical_ml/main/datasets/cars_prices.csv\", decimal='.')"
   ]
  },
  {
   "cell_type": "code",
   "execution_count": 559,
   "metadata": {
    "colab": {
     "base_uri": "https://localhost:8080/",
     "height": 349
    },
    "id": "Lwc0nE9APqfs",
    "outputId": "1ebe050e-26dd-4c38-80ee-7f8fe3fdb3d8"
   },
   "outputs": [
    {
     "data": {
      "text/html": [
       "<div>\n",
       "<style scoped>\n",
       "    .dataframe tbody tr th:only-of-type {\n",
       "        vertical-align: middle;\n",
       "    }\n",
       "\n",
       "    .dataframe tbody tr th {\n",
       "        vertical-align: top;\n",
       "    }\n",
       "\n",
       "    .dataframe thead th {\n",
       "        text-align: right;\n",
       "    }\n",
       "</style>\n",
       "<table border=\"1\" class=\"dataframe\">\n",
       "  <thead>\n",
       "    <tr style=\"text-align: right;\">\n",
       "      <th></th>\n",
       "      <th>symboling</th>\n",
       "      <th>normalized-losses</th>\n",
       "      <th>make</th>\n",
       "      <th>fuel-type</th>\n",
       "      <th>aspiration</th>\n",
       "      <th>num-of-doors</th>\n",
       "      <th>body-style</th>\n",
       "      <th>drive-wheels</th>\n",
       "      <th>engine-location</th>\n",
       "      <th>wheel-base</th>\n",
       "      <th>...</th>\n",
       "      <th>engine-size</th>\n",
       "      <th>fuel-system</th>\n",
       "      <th>bore</th>\n",
       "      <th>stroke</th>\n",
       "      <th>compression-ratio</th>\n",
       "      <th>horsepower</th>\n",
       "      <th>peak-rpm</th>\n",
       "      <th>city-mpg</th>\n",
       "      <th>highway-mpg</th>\n",
       "      <th>price</th>\n",
       "    </tr>\n",
       "  </thead>\n",
       "  <tbody>\n",
       "    <tr>\n",
       "      <th>0</th>\n",
       "      <td>3</td>\n",
       "      <td>?</td>\n",
       "      <td>alfa-romero</td>\n",
       "      <td>gas</td>\n",
       "      <td>std</td>\n",
       "      <td>two</td>\n",
       "      <td>convertible</td>\n",
       "      <td>rwd</td>\n",
       "      <td>front</td>\n",
       "      <td>88.6</td>\n",
       "      <td>...</td>\n",
       "      <td>130</td>\n",
       "      <td>mpfi</td>\n",
       "      <td>3.47</td>\n",
       "      <td>2.68</td>\n",
       "      <td>9.0</td>\n",
       "      <td>111</td>\n",
       "      <td>5000</td>\n",
       "      <td>21</td>\n",
       "      <td>27</td>\n",
       "      <td>13495</td>\n",
       "    </tr>\n",
       "    <tr>\n",
       "      <th>1</th>\n",
       "      <td>3</td>\n",
       "      <td>?</td>\n",
       "      <td>alfa-romero</td>\n",
       "      <td>gas</td>\n",
       "      <td>std</td>\n",
       "      <td>two</td>\n",
       "      <td>convertible</td>\n",
       "      <td>rwd</td>\n",
       "      <td>front</td>\n",
       "      <td>88.6</td>\n",
       "      <td>...</td>\n",
       "      <td>130</td>\n",
       "      <td>mpfi</td>\n",
       "      <td>3.47</td>\n",
       "      <td>2.68</td>\n",
       "      <td>9.0</td>\n",
       "      <td>111</td>\n",
       "      <td>5000</td>\n",
       "      <td>21</td>\n",
       "      <td>27</td>\n",
       "      <td>16500</td>\n",
       "    </tr>\n",
       "    <tr>\n",
       "      <th>2</th>\n",
       "      <td>1</td>\n",
       "      <td>?</td>\n",
       "      <td>alfa-romero</td>\n",
       "      <td>gas</td>\n",
       "      <td>std</td>\n",
       "      <td>two</td>\n",
       "      <td>hatchback</td>\n",
       "      <td>rwd</td>\n",
       "      <td>front</td>\n",
       "      <td>94.5</td>\n",
       "      <td>...</td>\n",
       "      <td>152</td>\n",
       "      <td>mpfi</td>\n",
       "      <td>2.68</td>\n",
       "      <td>3.47</td>\n",
       "      <td>9.0</td>\n",
       "      <td>154</td>\n",
       "      <td>5000</td>\n",
       "      <td>19</td>\n",
       "      <td>26</td>\n",
       "      <td>16500</td>\n",
       "    </tr>\n",
       "    <tr>\n",
       "      <th>3</th>\n",
       "      <td>2</td>\n",
       "      <td>164</td>\n",
       "      <td>audi</td>\n",
       "      <td>gas</td>\n",
       "      <td>std</td>\n",
       "      <td>four</td>\n",
       "      <td>sedan</td>\n",
       "      <td>fwd</td>\n",
       "      <td>front</td>\n",
       "      <td>99.8</td>\n",
       "      <td>...</td>\n",
       "      <td>109</td>\n",
       "      <td>mpfi</td>\n",
       "      <td>3.19</td>\n",
       "      <td>3.40</td>\n",
       "      <td>10.0</td>\n",
       "      <td>102</td>\n",
       "      <td>5500</td>\n",
       "      <td>24</td>\n",
       "      <td>30</td>\n",
       "      <td>13950</td>\n",
       "    </tr>\n",
       "    <tr>\n",
       "      <th>4</th>\n",
       "      <td>2</td>\n",
       "      <td>164</td>\n",
       "      <td>audi</td>\n",
       "      <td>gas</td>\n",
       "      <td>std</td>\n",
       "      <td>four</td>\n",
       "      <td>sedan</td>\n",
       "      <td>4wd</td>\n",
       "      <td>front</td>\n",
       "      <td>99.4</td>\n",
       "      <td>...</td>\n",
       "      <td>136</td>\n",
       "      <td>mpfi</td>\n",
       "      <td>3.19</td>\n",
       "      <td>3.40</td>\n",
       "      <td>8.0</td>\n",
       "      <td>115</td>\n",
       "      <td>5500</td>\n",
       "      <td>18</td>\n",
       "      <td>22</td>\n",
       "      <td>17450</td>\n",
       "    </tr>\n",
       "  </tbody>\n",
       "</table>\n",
       "<p>5 rows × 26 columns</p>\n",
       "</div>"
      ],
      "text/plain": [
       "   symboling normalized-losses         make fuel-type aspiration num-of-doors  \\\n",
       "0          3                 ?  alfa-romero       gas        std          two   \n",
       "1          3                 ?  alfa-romero       gas        std          two   \n",
       "2          1                 ?  alfa-romero       gas        std          two   \n",
       "3          2               164         audi       gas        std         four   \n",
       "4          2               164         audi       gas        std         four   \n",
       "\n",
       "    body-style drive-wheels engine-location  wheel-base  ...  engine-size  \\\n",
       "0  convertible          rwd           front        88.6  ...          130   \n",
       "1  convertible          rwd           front        88.6  ...          130   \n",
       "2    hatchback          rwd           front        94.5  ...          152   \n",
       "3        sedan          fwd           front        99.8  ...          109   \n",
       "4        sedan          4wd           front        99.4  ...          136   \n",
       "\n",
       "   fuel-system  bore  stroke compression-ratio horsepower  peak-rpm city-mpg  \\\n",
       "0         mpfi  3.47    2.68               9.0        111      5000       21   \n",
       "1         mpfi  3.47    2.68               9.0        111      5000       21   \n",
       "2         mpfi  2.68    3.47               9.0        154      5000       19   \n",
       "3         mpfi  3.19    3.40              10.0        102      5500       24   \n",
       "4         mpfi  3.19    3.40               8.0        115      5500       18   \n",
       "\n",
       "  highway-mpg  price  \n",
       "0          27  13495  \n",
       "1          27  16500  \n",
       "2          26  16500  \n",
       "3          30  13950  \n",
       "4          22  17450  \n",
       "\n",
       "[5 rows x 26 columns]"
      ]
     },
     "execution_count": 559,
     "metadata": {},
     "output_type": "execute_result"
    }
   ],
   "source": [
    "df.head()"
   ]
  },
  {
   "cell_type": "markdown",
   "metadata": {
    "id": "cZ3Z2rtSQBZB"
   },
   "source": [
    "### Описание некоторых признаков\n",
    "\n",
    "`symboling` - rating corresponds to the degree to which the auto is more risky than its price indicates (+3 more risk and -3 is pretty safe)  \n",
    "`make` - car types (i.e. car brand)  \n",
    "`fuel-type` - types of fuel (gas or diesel)  \n",
    "`aspiration` - engine aspiration (standard or turbo)  \n",
    "`num-of-doors` - numbers of doors (two or four)  \n",
    "`body-style` - car body style (sedan or hachback)  \n",
    "`drive-wheels` - which types of drive wheel (forward-fwd, reversed-rwd)  \n",
    "`engine-location` - engine mounted location (front or back)  \n",
    "`wheel-base` - расстояние между осями передних и задних колес  \n",
    "`length` - car lenght  \n",
    "`weight` - car weight  \n",
    "`width` - car width  \n",
    "`height` - car height  "
   ]
  },
  {
   "cell_type": "code",
   "execution_count": 560,
   "metadata": {
    "colab": {
     "base_uri": "https://localhost:8080/"
    },
    "id": "0RdRAOIiXnpi",
    "outputId": "cf1973b1-99b5-438e-cc59-c83e1418090a"
   },
   "outputs": [
    {
     "data": {
      "text/plain": [
       "(205, 26)"
      ]
     },
     "execution_count": 560,
     "metadata": {},
     "output_type": "execute_result"
    }
   ],
   "source": [
    "df.shape"
   ]
  },
  {
   "cell_type": "code",
   "execution_count": 561,
   "metadata": {
    "colab": {
     "base_uri": "https://localhost:8080/"
    },
    "id": "j5evdCySRmAW",
    "outputId": "6854c8ad-b8fb-4c52-df5d-01378c6b1713"
   },
   "outputs": [
    {
     "name": "stdout",
     "output_type": "stream",
     "text": [
      "<class 'pandas.core.frame.DataFrame'>\n",
      "RangeIndex: 205 entries, 0 to 204\n",
      "Data columns (total 26 columns):\n",
      " #   Column             Non-Null Count  Dtype  \n",
      "---  ------             --------------  -----  \n",
      " 0   symboling          205 non-null    int64  \n",
      " 1   normalized-losses  205 non-null    object \n",
      " 2   make               205 non-null    object \n",
      " 3   fuel-type          205 non-null    object \n",
      " 4   aspiration         205 non-null    object \n",
      " 5   num-of-doors       205 non-null    object \n",
      " 6   body-style         205 non-null    object \n",
      " 7   drive-wheels       205 non-null    object \n",
      " 8   engine-location    205 non-null    object \n",
      " 9   wheel-base         205 non-null    float64\n",
      " 10  length             205 non-null    float64\n",
      " 11  width              205 non-null    float64\n",
      " 12  height             205 non-null    float64\n",
      " 13  curb-weight        205 non-null    int64  \n",
      " 14  engine-type        205 non-null    object \n",
      " 15  num-of-cylinders   205 non-null    object \n",
      " 16  engine-size        205 non-null    int64  \n",
      " 17  fuel-system        205 non-null    object \n",
      " 18  bore               205 non-null    object \n",
      " 19  stroke             205 non-null    object \n",
      " 20  compression-ratio  205 non-null    float64\n",
      " 21  horsepower         205 non-null    object \n",
      " 22  peak-rpm           205 non-null    object \n",
      " 23  city-mpg           205 non-null    int64  \n",
      " 24  highway-mpg        205 non-null    int64  \n",
      " 25  price              205 non-null    object \n",
      "dtypes: float64(5), int64(5), object(16)\n",
      "memory usage: 41.8+ KB\n"
     ]
    }
   ],
   "source": [
    "df.info()"
   ]
  },
  {
   "cell_type": "markdown",
   "metadata": {
    "id": "467CN2G3YULB"
   },
   "source": [
    "## Заполнение пропусков"
   ]
  },
  {
   "cell_type": "markdown",
   "metadata": {
    "id": "rdAu_7lbgog5"
   },
   "source": [
    "Пропуски в этом датасете обозначены как `?`"
   ]
  },
  {
   "cell_type": "code",
   "execution_count": 562,
   "metadata": {
    "colab": {
     "base_uri": "https://localhost:8080/"
    },
    "id": "KzMBbxpYWZn3",
    "outputId": "9252dc6d-2650-45af-e5ef-fb192a257afd"
   },
   "outputs": [
    {
     "name": "stdout",
     "output_type": "stream",
     "text": [
      "symboling 0\n",
      "normalized-losses 41\n",
      "make 0\n",
      "fuel-type 0\n",
      "aspiration 0\n",
      "num-of-doors 2\n",
      "body-style 0\n",
      "drive-wheels 0\n",
      "engine-location 0\n",
      "wheel-base 0\n",
      "length 0\n",
      "width 0\n",
      "height 0\n",
      "curb-weight 0\n",
      "engine-type 0\n",
      "num-of-cylinders 0\n",
      "engine-size 0\n",
      "fuel-system 0\n",
      "bore 4\n",
      "stroke 4\n",
      "compression-ratio 0\n",
      "horsepower 2\n",
      "peak-rpm 2\n",
      "city-mpg 0\n",
      "highway-mpg 0\n",
      "price 4\n"
     ]
    }
   ],
   "source": [
    "for c in df.columns:\n",
    "    print(c, len(df[df[c] == '?']))"
   ]
  },
  {
   "cell_type": "markdown",
   "metadata": {
    "id": "B_u_0_UJXwkg"
   },
   "source": [
    "Удалите строки, для которых неизвестно значение price, так как это целевая переменная."
   ]
  },
  {
   "cell_type": "code",
   "execution_count": 563,
   "metadata": {},
   "outputs": [],
   "source": [
    "df=df[df['price']!='?']"
   ]
  },
  {
   "cell_type": "markdown",
   "metadata": {
    "id": "4nnW4mCse2oq"
   },
   "source": [
    "## Вопрос для Quiz\n",
    "\n",
    "Сколько строк осталось в данных?"
   ]
  },
  {
   "cell_type": "code",
   "execution_count": 564,
   "metadata": {
    "id": "ZEdtYlvUX1Kj"
   },
   "outputs": [
    {
     "data": {
      "text/plain": [
       "(201, 26)"
      ]
     },
     "execution_count": 564,
     "metadata": {},
     "output_type": "execute_result"
    }
   ],
   "source": [
    "df.shape"
   ]
  },
  {
   "cell_type": "markdown",
   "metadata": {
    "id": "BzBhbWe6Xttu"
   },
   "source": [
    "Заполните средним значением пропуски в столбцах для числовых признаков и самым популярным значением для категориальных признаков\n",
    "* `num-of-doors`\n",
    "* `bore`\n",
    "* `stroke`\n",
    "* `horsepower`\n",
    "* `peak-rpm`"
   ]
  },
  {
   "cell_type": "code",
   "execution_count": 565,
   "metadata": {},
   "outputs": [
    {
     "data": {
      "text/plain": [
       "5117.587939698493"
      ]
     },
     "execution_count": 565,
     "metadata": {},
     "output_type": "execute_result"
    }
   ],
   "source": [
    "peak=df['peak-rpm'][df['peak-rpm']!='?']\n",
    "peak.astype(int).mean()"
   ]
  },
  {
   "cell_type": "code",
   "execution_count": 567,
   "metadata": {
    "id": "ZFS5aqMfXThA"
   },
   "outputs": [],
   "source": [
    "numeric = df.columns[(df.dtypes == 'int64') | (df.dtypes == 'float64')].tolist()\n",
    "categorical=['num-of-doors','bore','stroke','horsepower','peak-rpm']\n",
    "features=numeric+categorical\n",
    "for i in features:\n",
    "    if i in numeric:\n",
    "        df.loc[df[i]=='?',i]=df[i].mean()\n",
    "    else:\n",
    "        top=df[i].value_counts().idxmax()\n",
    "        df.loc[df[i]=='?',i]=top\n"
   ]
  },
  {
   "cell_type": "markdown",
   "metadata": {
    "id": "e__FkolsfC53"
   },
   "source": [
    "## Вопрос для Quiz\n",
    "\n",
    "Чему равно среднее значение `peak-rpm` до заполнения пропусков? Ответ округлите до целого числа."
   ]
  },
  {
   "cell_type": "markdown",
   "metadata": {},
   "source": [
    "5118"
   ]
  },
  {
   "cell_type": "markdown",
   "metadata": {
    "id": "DKJJUWRUYCPc"
   },
   "source": [
    "Пропуски в столбце `normalized-losses` предскажите при помощи линейной регрессии по признакам\n",
    "`symboling`, `wheel-base`, `length`, `width`, `height`, `curb-weight`, `engine-size`, `compression-ratio`, `city-mpg`, `highway-mpg` и заполните их предсказаниями"
   ]
  },
  {
   "cell_type": "code",
   "execution_count": 569,
   "metadata": {
    "id": "VxI417PYYF1u"
   },
   "outputs": [],
   "source": [
    "from sklearn.linear_model import LinearRegression\n",
    "\n",
    "features=['symboling','wheel-base','length', 'width', 'height', 'curb-weight', \n",
    "          'engine-size','compression-ratio','city-mpg','highway-mpg']\n",
    "y=df['normalized-losses'][df['normalized-losses']!='?']\n",
    "\n",
    "X_train=df[features][df['normalized-losses']!='?']\n",
    "X_test=df[features][df['normalized-losses']=='?']\n",
    "\n",
    "model= LinearRegression()\n",
    "model.fit(X_train,y)\n",
    "y_pred=model.predict(X_test)"
   ]
  },
  {
   "cell_type": "code",
   "execution_count": 570,
   "metadata": {},
   "outputs": [],
   "source": [
    "df.loc[df['normalized-losses']=='?','normalized-losses']=y_pred"
   ]
  },
  {
   "cell_type": "markdown",
   "metadata": {
    "id": "LVcKyBT6fMyB"
   },
   "source": [
    "## Вопрос для Quiz\n",
    "\n",
    "Чему равно предсказание линейной регрессии на первом пропущенном значении? Ответ округлите до целого числа."
   ]
  },
  {
   "cell_type": "markdown",
   "metadata": {},
   "source": [
    "168"
   ]
  },
  {
   "cell_type": "markdown",
   "metadata": {
    "id": "4nCtOgdHYWcK"
   },
   "source": [
    "## 2. Кодирование категориальных признаков"
   ]
  },
  {
   "cell_type": "markdown",
   "metadata": {
    "id": "NfpKlPSoZrOx"
   },
   "source": [
    "1. Закодируйте бинарные признаки `fuel-type`, `aspiration`, `num-of-doors`, `engine-location` каждый отдельной колонкой, состоящей из 0 и 1.\n",
    "Единицей кодируйте самую частую категорию."
   ]
  },
  {
   "cell_type": "code",
   "execution_count": 571,
   "metadata": {
    "id": "SNMXDMrOaDC3"
   },
   "outputs": [],
   "source": [
    "categor=['fuel-type','aspiration','num-of-doors','engine-location']\n",
    "\n",
    "for i in categor:\n",
    "    top=df[i].value_counts().idxmax()\n",
    "    df[i]=(df[i] == top).astype(int)"
   ]
  },
  {
   "cell_type": "markdown",
   "metadata": {
    "id": "63EWSfcdacBP"
   },
   "source": [
    "2. Вынесите в переменную `y` целевую переменную `price`, а все остальные колонки - в матрицу `X`.\n",
    "\n",
    "Закодируйте признаки `make`, `body-style`, `engine-type`, `fuel-system` при помощи LeaveOneOutEncoder.\n",
    "\n",
    "**Дальше все время работайте с объектами `X`, `y`.**"
   ]
  },
  {
   "cell_type": "code",
   "execution_count": 572,
   "metadata": {
    "colab": {
     "base_uri": "https://localhost:8080/"
    },
    "id": "CrYYbC7qaqhu",
    "outputId": "35664264-cea7-48bb-f8e7-eda9c4eacc27"
   },
   "outputs": [],
   "source": [
    "!pip install category_encoders -q"
   ]
  },
  {
   "cell_type": "code",
   "execution_count": 573,
   "metadata": {},
   "outputs": [],
   "source": [
    "df['price']=df['price'].astype(int)"
   ]
  },
  {
   "cell_type": "code",
   "execution_count": 574,
   "metadata": {
    "id": "mVYSRQPkas_H"
   },
   "outputs": [],
   "source": [
    "from category_encoders.leave_one_out import LeaveOneOutEncoder\n",
    "\n",
    "feat=['make', 'body-style', 'engine-type', 'fuel-system']\n",
    "\n",
    "X = df.drop(columns='price')\n",
    "y = df['price']\n",
    "\n",
    "# X= pd.DataFrame(X)\n",
    "# y= pd.Series(y)\n",
    "\n",
    "\n",
    "encoder = LeaveOneOutEncoder()\n",
    "X_encoded = encoder.fit_transform(X[feat],y)\n",
    "\n",
    "X=pd.concat([X.drop(columns=feat),X_encoded],axis=1)"
   ]
  },
  {
   "cell_type": "markdown",
   "metadata": {
    "id": "xrayBEdmfajI"
   },
   "source": [
    "## Вопрос для Quiz\n",
    "\n",
    "Чему равно среднее значение в столбце `body-style` после кодирования? Ответ округлите до целого числа."
   ]
  },
  {
   "cell_type": "markdown",
   "metadata": {
    "id": "bijoPpNabTpr"
   },
   "source": [
    "3. Закодируйте признак `drive-wheels` при помощи OHE из библиотеки category_encoders."
   ]
  },
  {
   "cell_type": "code",
   "execution_count": 576,
   "metadata": {
    "id": "QaKHWAJ6bTUg"
   },
   "outputs": [],
   "source": [
    "from category_encoders.one_hot import OneHotEncoder\n",
    "\n",
    "model=OneHotEncoder()\n",
    "X_encoded=model.fit_transform(df['drive-wheels'])\n",
    "\n",
    "X=pd.concat([X.drop(columns='drive-wheels'),X_encoded],axis=1)"
   ]
  },
  {
   "cell_type": "markdown",
   "metadata": {
    "id": "49oY1K1ab9zj"
   },
   "source": [
    "4. В столбце `num-of-cylinders` категории упорядочены по смыслу. Закодируйте их подряд идущими числами, начиная с 1, согласно смыслу.\n",
    "\n",
    "Подряд идущими числами означает - 1, 2, 3 и так далее без пропусков."
   ]
  },
  {
   "cell_type": "code",
   "execution_count": 577,
   "metadata": {},
   "outputs": [
    {
     "data": {
      "text/plain": [
       "Index(['symboling', 'normalized-losses', 'fuel-type', 'aspiration',\n",
       "       'num-of-doors', 'engine-location', 'wheel-base', 'length', 'width',\n",
       "       'height', 'curb-weight', 'num-of-cylinders', 'engine-size', 'bore',\n",
       "       'stroke', 'compression-ratio', 'horsepower', 'peak-rpm', 'city-mpg',\n",
       "       'highway-mpg', 'make', 'body-style', 'engine-type', 'fuel-system',\n",
       "       'drive-wheels_1', 'drive-wheels_2', 'drive-wheels_3'],\n",
       "      dtype='object')"
      ]
     },
     "execution_count": 577,
     "metadata": {},
     "output_type": "execute_result"
    }
   ],
   "source": [
    "X.columns"
   ]
  },
  {
   "cell_type": "code",
   "execution_count": 578,
   "metadata": {
    "id": "zpvie4xGYbQz"
   },
   "outputs": [],
   "source": [
    "cylinder_mapping = {\n",
    "    'two': 1,\n",
    "    'three': 2,\n",
    "    'four': 3,\n",
    "    'five': 4,\n",
    "    'six': 5,\n",
    "    'eight': 6,\n",
    "    'twelve': 7\n",
    "}\n",
    "\n",
    "X['num-of-cylinders'] = X['num-of-cylinders'].map(cylinder_mapping)"
   ]
  },
  {
   "cell_type": "markdown",
   "metadata": {
    "id": "pzIWb2qgfvcM"
   },
   "source": [
    "## Вопрос для Quiz\n",
    "\n",
    "Сколько столбцов получилось в матрице `X`?"
   ]
  },
  {
   "cell_type": "code",
   "execution_count": 579,
   "metadata": {},
   "outputs": [
    {
     "data": {
      "text/plain": [
       "(201, 27)"
      ]
     },
     "execution_count": 579,
     "metadata": {},
     "output_type": "execute_result"
    }
   ],
   "source": [
    "X.shape"
   ]
  },
  {
   "cell_type": "code",
   "execution_count": 580,
   "metadata": {},
   "outputs": [
    {
     "data": {
      "text/plain": [
       "0    168.072493\n",
       "1    168.072493\n",
       "2    134.001799\n",
       "3           164\n",
       "4           164\n",
       "Name: normalized-losses, dtype: object"
      ]
     },
     "execution_count": 580,
     "metadata": {},
     "output_type": "execute_result"
    }
   ],
   "source": [
    "X['normalized-losses'].head()"
   ]
  },
  {
   "cell_type": "code",
   "execution_count": 585,
   "metadata": {
    "id": "7Gnh7Q-UYqPF"
   },
   "outputs": [],
   "source": [
    "X['normalized-losses'] = X['normalized-losses'].astype(float)\n",
    "X['bore'] = X['bore'].astype(float)\n",
    "X['stroke'] = X['stroke'].astype(float)\n",
    "X['horsepower'] = X['horsepower'].astype(float)\n",
    "X['peak-rpm'] = X['peak-rpm'].astype(float)\n",
    "\n",
    "y = y.astype(float)"
   ]
  },
  {
   "cell_type": "markdown",
   "metadata": {
    "id": "T7sJS-JMdwtl"
   },
   "source": [
    "Разбейте данные на тренировочную и тестовую часть в пропорции 3 к 1, зафиксируйте random_state = 42."
   ]
  },
  {
   "cell_type": "code",
   "execution_count": 586,
   "metadata": {
    "id": "YzLuleOHdrHi"
   },
   "outputs": [],
   "source": [
    "from sklearn.model_selection import train_test_split\n",
    "\n",
    "X_train,X_test,y_train,y_test=train_test_split(X,y,test_size=0.25, random_state = 42)"
   ]
  },
  {
   "cell_type": "markdown",
   "metadata": {
    "id": "F5OC3BTxd-Z9"
   },
   "source": [
    "Масштабируйте данные при помощи MinMaxScaler.\n",
    "\n",
    "Обучайте масштабирование на тренировочных данных, а потом примените и к трейну, и к тесту."
   ]
  },
  {
   "cell_type": "code",
   "execution_count": 587,
   "metadata": {
    "id": "CtUczvWgd9vt"
   },
   "outputs": [],
   "source": [
    "from sklearn.preprocessing import MinMaxScaler\n",
    "\n",
    "min_max=MinMaxScaler()\n",
    "min_max.fit(X_train)\n",
    "X_train_prep=min_max.transform(X_train)\n",
    "X_test_prep=min_max.transform(X_test)\n"
   ]
  },
  {
   "cell_type": "markdown",
   "metadata": {
    "id": "rAknalf5eevG"
   },
   "source": [
    "Обучите на тренировочных данных линейную регрессию, сделайте предсказание на тесте и вычислите значение $R^2$ на тестовых данных."
   ]
  },
  {
   "cell_type": "code",
   "execution_count": 588,
   "metadata": {
    "id": "tvmiFFkqeU2B"
   },
   "outputs": [
    {
     "data": {
      "text/plain": [
       "0.9068485682379008"
      ]
     },
     "execution_count": 588,
     "metadata": {},
     "output_type": "execute_result"
    }
   ],
   "source": [
    "from sklearn.metrics import r2_score\n",
    "\n",
    "model=LinearRegression()\n",
    "model.fit(X_train_prep,y_train)\n",
    "y_pred=model.predict(X_test_prep)\n",
    "\n",
    "r2 = r2_score(y_test, y_pred)\n",
    "r2"
   ]
  },
  {
   "cell_type": "markdown",
   "metadata": {
    "id": "5JWcIWG-f7X7"
   },
   "source": [
    "## Вопрос для Quiz\n",
    "\n",
    "Чему равно значение $R^2$ на тестовых данных? Ответ округлите до сотых."
   ]
  }
 ],
 "metadata": {
  "colab": {
   "provenance": []
  },
  "kernelspec": {
   "display_name": "Python 3 (ipykernel)",
   "language": "python",
   "name": "python3"
  },
  "language_info": {
   "codemirror_mode": {
    "name": "ipython",
    "version": 3
   },
   "file_extension": ".py",
   "mimetype": "text/x-python",
   "name": "python",
   "nbconvert_exporter": "python",
   "pygments_lexer": "ipython3",
   "version": "3.11.7"
  }
 },
 "nbformat": 4,
 "nbformat_minor": 4
}
