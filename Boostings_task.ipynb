{
 "cells": [
  {
   "cell_type": "markdown",
   "metadata": {
    "id": "8bieQL5lwfBD"
   },
   "source": [
    "# Прогнозируем задержки самолетов"
   ]
  },
  {
   "cell_type": "code",
   "execution_count": 1,
   "metadata": {
    "colab": {
     "base_uri": "https://localhost:8080/"
    },
    "id": "DARqocv0wz0z",
    "outputId": "b0fbe205-4df3-4b8d-e7d6-51833dee97be"
   },
   "outputs": [],
   "source": [
    "!pip install catboost lightgbm optuna -q"
   ]
  },
  {
   "cell_type": "code",
   "execution_count": 58,
   "metadata": {
    "id": "U-gc09zSwvyF"
   },
   "outputs": [],
   "source": [
    "from sklearn.model_selection import train_test_split, cross_val_score\n",
    "from sklearn.metrics import roc_auc_score\n",
    "import pandas as pd\n",
    "import numpy as np\n",
    "from catboost import CatBoostClassifier\n",
    "from lightgbm import LGBMClassifier\n",
    "import optuna"
   ]
  },
  {
   "cell_type": "code",
   "execution_count": 3,
   "metadata": {
    "id": "C4LFGZPXweF2"
   },
   "outputs": [],
   "source": [
    "RANDOM_STATE = 111\n",
    "DATASET_PATH = 'https://raw.githubusercontent.com/evgpat/edu_stepik_practical_ml/main/datasets/flight_delays_train.csv'"
   ]
  },
  {
   "cell_type": "code",
   "execution_count": 4,
   "metadata": {
    "colab": {
     "base_uri": "https://localhost:8080/",
     "height": 228
    },
    "id": "m788vNOUxBNU",
    "outputId": "42974e99-32f3-45ff-fb4e-54c588d902e5"
   },
   "outputs": [
    {
     "data": {
      "text/html": [
       "<div>\n",
       "<style scoped>\n",
       "    .dataframe tbody tr th:only-of-type {\n",
       "        vertical-align: middle;\n",
       "    }\n",
       "\n",
       "    .dataframe tbody tr th {\n",
       "        vertical-align: top;\n",
       "    }\n",
       "\n",
       "    .dataframe thead th {\n",
       "        text-align: right;\n",
       "    }\n",
       "</style>\n",
       "<table border=\"1\" class=\"dataframe\">\n",
       "  <thead>\n",
       "    <tr style=\"text-align: right;\">\n",
       "      <th></th>\n",
       "      <th>Month</th>\n",
       "      <th>DayofMonth</th>\n",
       "      <th>DayOfWeek</th>\n",
       "      <th>DepTime</th>\n",
       "      <th>UniqueCarrier</th>\n",
       "      <th>Origin</th>\n",
       "      <th>Dest</th>\n",
       "      <th>Distance</th>\n",
       "    </tr>\n",
       "  </thead>\n",
       "  <tbody>\n",
       "    <tr>\n",
       "      <th>0</th>\n",
       "      <td>c-8</td>\n",
       "      <td>c-21</td>\n",
       "      <td>c-7</td>\n",
       "      <td>1934</td>\n",
       "      <td>AA</td>\n",
       "      <td>ATL</td>\n",
       "      <td>DFW</td>\n",
       "      <td>732</td>\n",
       "    </tr>\n",
       "    <tr>\n",
       "      <th>1</th>\n",
       "      <td>c-4</td>\n",
       "      <td>c-20</td>\n",
       "      <td>c-3</td>\n",
       "      <td>1548</td>\n",
       "      <td>US</td>\n",
       "      <td>PIT</td>\n",
       "      <td>MCO</td>\n",
       "      <td>834</td>\n",
       "    </tr>\n",
       "    <tr>\n",
       "      <th>2</th>\n",
       "      <td>c-9</td>\n",
       "      <td>c-2</td>\n",
       "      <td>c-5</td>\n",
       "      <td>1422</td>\n",
       "      <td>XE</td>\n",
       "      <td>RDU</td>\n",
       "      <td>CLE</td>\n",
       "      <td>416</td>\n",
       "    </tr>\n",
       "    <tr>\n",
       "      <th>3</th>\n",
       "      <td>c-11</td>\n",
       "      <td>c-25</td>\n",
       "      <td>c-6</td>\n",
       "      <td>1015</td>\n",
       "      <td>OO</td>\n",
       "      <td>DEN</td>\n",
       "      <td>MEM</td>\n",
       "      <td>872</td>\n",
       "    </tr>\n",
       "    <tr>\n",
       "      <th>4</th>\n",
       "      <td>c-10</td>\n",
       "      <td>c-7</td>\n",
       "      <td>c-6</td>\n",
       "      <td>1828</td>\n",
       "      <td>WN</td>\n",
       "      <td>MDW</td>\n",
       "      <td>OMA</td>\n",
       "      <td>423</td>\n",
       "    </tr>\n",
       "  </tbody>\n",
       "</table>\n",
       "</div>"
      ],
      "text/plain": [
       "  Month DayofMonth DayOfWeek  DepTime UniqueCarrier Origin Dest  Distance\n",
       "0   c-8       c-21       c-7     1934            AA    ATL  DFW       732\n",
       "1   c-4       c-20       c-3     1548            US    PIT  MCO       834\n",
       "2   c-9        c-2       c-5     1422            XE    RDU  CLE       416\n",
       "3  c-11       c-25       c-6     1015            OO    DEN  MEM       872\n",
       "4  c-10        c-7       c-6     1828            WN    MDW  OMA       423"
      ]
     },
     "execution_count": 4,
     "metadata": {},
     "output_type": "execute_result"
    }
   ],
   "source": [
    "data = pd.read_csv(DATASET_PATH)\n",
    "\n",
    "X = data.drop('dep_delayed_15min', axis=1)\n",
    "y = data['dep_delayed_15min'] == 'Y'\n",
    "\n",
    "X.head()"
   ]
  },
  {
   "cell_type": "markdown",
   "metadata": {
    "id": "WoeAqm7x7Of9"
   },
   "source": [
    "Создайте список номеров колонок с категориальными признаками для бустингов\n",
    "\n",
    "## Quiz\n",
    "Какой длины получился список?\n",
    "\n",
    "(подсказка: колонка `DepTime` числовая)"
   ]
  },
  {
   "cell_type": "code",
   "execution_count": 33,
   "metadata": {
    "id": "f2_RDMSdxgtC"
   },
   "outputs": [],
   "source": [
    "cat_features = np.where(X.dtypes==object)[0]"
   ]
  },
  {
   "cell_type": "code",
   "execution_count": 34,
   "metadata": {},
   "outputs": [
    {
     "data": {
      "text/plain": [
       "array([0, 1, 2, 4, 5, 6])"
      ]
     },
     "execution_count": 34,
     "metadata": {},
     "output_type": "execute_result"
    }
   ],
   "source": [
    "cat_features"
   ]
  },
  {
   "cell_type": "markdown",
   "metadata": {
    "id": "AFUsTHb_7Tm0"
   },
   "source": [
    "Разобъем данные на обучение и контроль"
   ]
  },
  {
   "cell_type": "code",
   "execution_count": 19,
   "metadata": {
    "id": "b5hPnUwvwu_Z"
   },
   "outputs": [],
   "source": [
    "Xtrain, Xtest, ytrain, ytest = train_test_split(X, y, test_size=0.25, random_state=RANDOM_STATE)"
   ]
  },
  {
   "cell_type": "code",
   "execution_count": 20,
   "metadata": {
    "colab": {
     "base_uri": "https://localhost:8080/",
     "height": 228
    },
    "id": "EysJWEMy00fZ",
    "outputId": "ffdf59e5-f8b5-4c50-ac46-d52b0ef29503"
   },
   "outputs": [
    {
     "data": {
      "text/html": [
       "<div>\n",
       "<style scoped>\n",
       "    .dataframe tbody tr th:only-of-type {\n",
       "        vertical-align: middle;\n",
       "    }\n",
       "\n",
       "    .dataframe tbody tr th {\n",
       "        vertical-align: top;\n",
       "    }\n",
       "\n",
       "    .dataframe thead th {\n",
       "        text-align: right;\n",
       "    }\n",
       "</style>\n",
       "<table border=\"1\" class=\"dataframe\">\n",
       "  <thead>\n",
       "    <tr style=\"text-align: right;\">\n",
       "      <th></th>\n",
       "      <th>Month</th>\n",
       "      <th>DayofMonth</th>\n",
       "      <th>DayOfWeek</th>\n",
       "      <th>DepTime</th>\n",
       "      <th>UniqueCarrier</th>\n",
       "      <th>Origin</th>\n",
       "      <th>Dest</th>\n",
       "      <th>Distance</th>\n",
       "    </tr>\n",
       "  </thead>\n",
       "  <tbody>\n",
       "    <tr>\n",
       "      <th>41207</th>\n",
       "      <td>c-4</td>\n",
       "      <td>c-18</td>\n",
       "      <td>c-1</td>\n",
       "      <td>1457</td>\n",
       "      <td>CO</td>\n",
       "      <td>EWR</td>\n",
       "      <td>TPA</td>\n",
       "      <td>998</td>\n",
       "    </tr>\n",
       "    <tr>\n",
       "      <th>28283</th>\n",
       "      <td>c-11</td>\n",
       "      <td>c-1</td>\n",
       "      <td>c-2</td>\n",
       "      <td>1225</td>\n",
       "      <td>UA</td>\n",
       "      <td>DEN</td>\n",
       "      <td>BOS</td>\n",
       "      <td>1754</td>\n",
       "    </tr>\n",
       "    <tr>\n",
       "      <th>34619</th>\n",
       "      <td>c-6</td>\n",
       "      <td>c-16</td>\n",
       "      <td>c-5</td>\n",
       "      <td>1650</td>\n",
       "      <td>YV</td>\n",
       "      <td>IAD</td>\n",
       "      <td>CAE</td>\n",
       "      <td>401</td>\n",
       "    </tr>\n",
       "    <tr>\n",
       "      <th>8789</th>\n",
       "      <td>c-5</td>\n",
       "      <td>c-18</td>\n",
       "      <td>c-4</td>\n",
       "      <td>923</td>\n",
       "      <td>AA</td>\n",
       "      <td>SLC</td>\n",
       "      <td>DFW</td>\n",
       "      <td>988</td>\n",
       "    </tr>\n",
       "    <tr>\n",
       "      <th>38315</th>\n",
       "      <td>c-2</td>\n",
       "      <td>c-14</td>\n",
       "      <td>c-2</td>\n",
       "      <td>1839</td>\n",
       "      <td>AA</td>\n",
       "      <td>STL</td>\n",
       "      <td>SAN</td>\n",
       "      <td>1558</td>\n",
       "    </tr>\n",
       "  </tbody>\n",
       "</table>\n",
       "</div>"
      ],
      "text/plain": [
       "      Month DayofMonth DayOfWeek  DepTime UniqueCarrier Origin Dest  Distance\n",
       "41207   c-4       c-18       c-1     1457            CO    EWR  TPA       998\n",
       "28283  c-11        c-1       c-2     1225            UA    DEN  BOS      1754\n",
       "34619   c-6       c-16       c-5     1650            YV    IAD  CAE       401\n",
       "8789    c-5       c-18       c-4      923            AA    SLC  DFW       988\n",
       "38315   c-2       c-14       c-2     1839            AA    STL  SAN      1558"
      ]
     },
     "execution_count": 20,
     "metadata": {},
     "output_type": "execute_result"
    }
   ],
   "source": [
    "Xtrain.head()"
   ]
  },
  {
   "cell_type": "markdown",
   "metadata": {
    "id": "8E9ZC9UXymeu"
   },
   "source": [
    "## Модели с параметрами по умолчанию"
   ]
  },
  {
   "cell_type": "markdown",
   "metadata": {
    "id": "BiT-smHxypQx"
   },
   "source": [
    "Обучите CatBoost с гиперпараметрами по умолчанию.\n",
    "\n",
    "## Quiz\n",
    "Чему равен ROC-AUC на тестовых данных? Ответ округлите до сотых."
   ]
  },
  {
   "cell_type": "code",
   "execution_count": null,
   "metadata": {},
   "outputs": [],
   "source": [
    "model = CatBoostClassifier(\n",
    "    custom_loss=[metrics.Accuracy()],\n",
    "    random_seed=42,\n",
    "    logging_level='Silent'\n",
    ")"
   ]
  },
  {
   "cell_type": "code",
   "execution_count": 36,
   "metadata": {
    "id": "vdjpjT1Gw8ff"
   },
   "outputs": [
    {
     "data": {
      "text/plain": [
       "<catboost.core.CatBoostClassifier at 0x15aa5dbd0>"
      ]
     },
     "execution_count": 36,
     "metadata": {},
     "output_type": "execute_result"
    }
   ],
   "source": [
    "model = CatBoostClassifier()\n",
    "model.fit(Xtrain,ytrain,\n",
    "          cat_features=cat_features,\n",
    "          logging_level='Silent'\n",
    "         )"
   ]
  },
  {
   "cell_type": "code",
   "execution_count": 37,
   "metadata": {},
   "outputs": [],
   "source": [
    "y_pred=model.predict(Xtest)\n",
    "y_pred_proba=model.predict_proba(Xtest)"
   ]
  },
  {
   "cell_type": "code",
   "execution_count": 43,
   "metadata": {},
   "outputs": [],
   "source": [
    "y_pred_proba=y_pred_proba[:,1]"
   ]
  },
  {
   "cell_type": "code",
   "execution_count": 44,
   "metadata": {},
   "outputs": [
    {
     "data": {
      "text/plain": [
       "0.7672794695374432"
      ]
     },
     "execution_count": 44,
     "metadata": {},
     "output_type": "execute_result"
    }
   ],
   "source": [
    "roc_auc_score(ytest,y_pred_proba)"
   ]
  },
  {
   "cell_type": "markdown",
   "metadata": {
    "id": "fBO2HEaAy61O"
   },
   "source": [
    "Обучите LightGBM с гиперпараметрами по умолчанию.\n",
    "\n",
    "## Quiz\n",
    "Чему равен ROC-AUC на тестовых данных? Ответ округлите до сотых."
   ]
  },
  {
   "cell_type": "code",
   "execution_count": 49,
   "metadata": {
    "id": "G_g3Ead3yZ5v"
   },
   "outputs": [],
   "source": [
    "for c in X.columns:\n",
    "    col_type = X[c].dtype\n",
    "    if col_type == 'object' or col_type.name == 'category':\n",
    "        Xtrain[c] = Xtrain[c].astype('category')\n",
    "        Xtest[c] = Xtest[c].astype('category')"
   ]
  },
  {
   "cell_type": "code",
   "execution_count": 52,
   "metadata": {},
   "outputs": [
    {
     "name": "stdout",
     "output_type": "stream",
     "text": [
      "[LightGBM] [Info] Number of positive: 14346, number of negative: 60654\n",
      "[LightGBM] [Info] Auto-choosing col-wise multi-threading, the overhead of testing was 0.002785 seconds.\n",
      "You can set `force_col_wise=true` to remove the overhead.\n",
      "[LightGBM] [Info] Total Bins 1095\n",
      "[LightGBM] [Info] Number of data points in the train set: 75000, number of used features: 8\n",
      "[LightGBM] [Info] [binary:BoostFromScore]: pavg=0.191280 -> initscore=-1.441714\n",
      "[LightGBM] [Info] Start training from score -1.441714\n"
     ]
    }
   ],
   "source": [
    "lgbm = LGBMClassifier()\n",
    "lgbm.fit(Xtrain,ytrain)\n",
    "\n",
    "y_pred=lgbm.predict(Xtest)\n",
    "y_pred_proba=lgbm.predict_proba(Xtest)\n",
    "y_pred_proba=y_pred_proba[:,1]"
   ]
  },
  {
   "cell_type": "code",
   "execution_count": 53,
   "metadata": {
    "id": "Z2jPIID3xUPw"
   },
   "outputs": [
    {
     "data": {
      "text/plain": [
       "0.7341149074685321"
      ]
     },
     "execution_count": 53,
     "metadata": {},
     "output_type": "execute_result"
    }
   ],
   "source": [
    "roc_auc_score(ytest,y_pred_proba)"
   ]
  },
  {
   "cell_type": "markdown",
   "metadata": {
    "id": "zazHv43vzn2e"
   },
   "source": [
    "## Optuna"
   ]
  },
  {
   "cell_type": "markdown",
   "metadata": {
    "id": "MGaTMoDr7cvz"
   },
   "source": [
    "Выделим дополнительную валидационную выборку."
   ]
  },
  {
   "cell_type": "code",
   "execution_count": 55,
   "metadata": {
    "id": "meyw3CyV1aF_"
   },
   "outputs": [],
   "source": [
    "Xtrain_new, Xval, ytrain_new, yval = train_test_split(Xtrain, ytrain, test_size=0.25, random_state=RANDOM_STATE)"
   ]
  },
  {
   "cell_type": "markdown",
   "metadata": {
    "id": "RatJBHjn1tq2"
   },
   "source": [
    "Создайте функцию objective_lgbm, в которой среди гиперпараметров\n",
    "\n",
    "* num_leaves = trial.suggest_int(\"num_leaves\", 10, 100)\n",
    "* n_estimators = trial.suggest_int(\"n_estimators\", 10, 1000)\n",
    "\n",
    "подберите оптимальные, обучая LGBM на Xtrain_new, ytrain_new и проверяя качество (ROC-AUC) на Xval.\n",
    "\n",
    "Используйте 30 эпох обучения Optuna.\n"
   ]
  },
  {
   "cell_type": "code",
   "execution_count": 60,
   "metadata": {
    "id": "YgOH1GMFzhW1"
   },
   "outputs": [
    {
     "name": "stderr",
     "output_type": "stream",
     "text": [
      "[I 2024-10-24 01:49:01,462] A new study created in memory with name: no-name-45d1f738-9b83-4516-8d57-da021c7eea36\n"
     ]
    },
    {
     "name": "stdout",
     "output_type": "stream",
     "text": [
      "[LightGBM] [Info] Number of positive: 10730, number of negative: 45520\n",
      "[LightGBM] [Info] Auto-choosing col-wise multi-threading, the overhead of testing was 0.001199 seconds.\n",
      "You can set `force_col_wise=true` to remove the overhead.\n",
      "[LightGBM] [Info] Total Bins 1095\n",
      "[LightGBM] [Info] Number of data points in the train set: 56250, number of used features: 8\n",
      "[LightGBM] [Info] [binary:BoostFromScore]: pavg=0.190756 -> initscore=-1.445108\n",
      "[LightGBM] [Info] Start training from score -1.445108\n"
     ]
    },
    {
     "name": "stderr",
     "output_type": "stream",
     "text": [
      "[I 2024-10-24 01:49:03,222] Trial 0 finished with value: 0.1236333371731704 and parameters: {'num_leaves': 59, 'n_estimators': 532}. Best is trial 0 with value: 0.1236333371731704.\n"
     ]
    },
    {
     "name": "stdout",
     "output_type": "stream",
     "text": [
      "[LightGBM] [Info] Number of positive: 10730, number of negative: 45520\n",
      "[LightGBM] [Info] Auto-choosing col-wise multi-threading, the overhead of testing was 0.001688 seconds.\n",
      "You can set `force_col_wise=true` to remove the overhead.\n",
      "[LightGBM] [Info] Total Bins 1095\n",
      "[LightGBM] [Info] Number of data points in the train set: 56250, number of used features: 8\n",
      "[LightGBM] [Info] [binary:BoostFromScore]: pavg=0.190756 -> initscore=-1.445108\n",
      "[LightGBM] [Info] Start training from score -1.445108\n"
     ]
    },
    {
     "name": "stderr",
     "output_type": "stream",
     "text": [
      "[I 2024-10-24 01:49:04,802] Trial 1 finished with value: 0.1236333371731704 and parameters: {'num_leaves': 15, 'n_estimators': 722}. Best is trial 0 with value: 0.1236333371731704.\n"
     ]
    },
    {
     "name": "stdout",
     "output_type": "stream",
     "text": [
      "[LightGBM] [Info] Number of positive: 10730, number of negative: 45520\n",
      "[LightGBM] [Info] Auto-choosing row-wise multi-threading, the overhead of testing was 0.000377 seconds.\n",
      "You can set `force_row_wise=true` to remove the overhead.\n",
      "And if memory is not enough, you can set `force_col_wise=true`.\n",
      "[LightGBM] [Info] Total Bins 1095\n",
      "[LightGBM] [Info] Number of data points in the train set: 56250, number of used features: 8\n",
      "[LightGBM] [Info] [binary:BoostFromScore]: pavg=0.190756 -> initscore=-1.445108\n",
      "[LightGBM] [Info] Start training from score -1.445108\n"
     ]
    },
    {
     "name": "stderr",
     "output_type": "stream",
     "text": [
      "[I 2024-10-24 01:49:05,043] Trial 2 finished with value: 0.1236333371731704 and parameters: {'num_leaves': 11, 'n_estimators': 104}. Best is trial 0 with value: 0.1236333371731704.\n"
     ]
    },
    {
     "name": "stdout",
     "output_type": "stream",
     "text": [
      "[LightGBM] [Info] Number of positive: 10730, number of negative: 45520\n",
      "[LightGBM] [Info] Auto-choosing col-wise multi-threading, the overhead of testing was 0.001333 seconds.\n",
      "You can set `force_col_wise=true` to remove the overhead.\n",
      "[LightGBM] [Info] Total Bins 1095\n",
      "[LightGBM] [Info] Number of data points in the train set: 56250, number of used features: 8\n",
      "[LightGBM] [Info] [binary:BoostFromScore]: pavg=0.190756 -> initscore=-1.445108\n",
      "[LightGBM] [Info] Start training from score -1.445108\n"
     ]
    },
    {
     "name": "stderr",
     "output_type": "stream",
     "text": [
      "[I 2024-10-24 01:49:06,568] Trial 3 finished with value: 0.1236333371731704 and parameters: {'num_leaves': 36, 'n_estimators': 651}. Best is trial 0 with value: 0.1236333371731704.\n"
     ]
    },
    {
     "name": "stdout",
     "output_type": "stream",
     "text": [
      "[LightGBM] [Info] Number of positive: 10730, number of negative: 45520\n",
      "[LightGBM] [Info] Auto-choosing row-wise multi-threading, the overhead of testing was 0.000620 seconds.\n",
      "You can set `force_row_wise=true` to remove the overhead.\n",
      "And if memory is not enough, you can set `force_col_wise=true`.\n",
      "[LightGBM] [Info] Total Bins 1095\n",
      "[LightGBM] [Info] Number of data points in the train set: 56250, number of used features: 8\n",
      "[LightGBM] [Info] [binary:BoostFromScore]: pavg=0.190756 -> initscore=-1.445108\n",
      "[LightGBM] [Info] Start training from score -1.445108\n"
     ]
    },
    {
     "name": "stderr",
     "output_type": "stream",
     "text": [
      "[I 2024-10-24 01:49:07,768] Trial 4 finished with value: 0.1236333371731704 and parameters: {'num_leaves': 66, 'n_estimators': 321}. Best is trial 0 with value: 0.1236333371731704.\n"
     ]
    },
    {
     "name": "stdout",
     "output_type": "stream",
     "text": [
      "[LightGBM] [Info] Number of positive: 10730, number of negative: 45520\n",
      "[LightGBM] [Info] Auto-choosing row-wise multi-threading, the overhead of testing was 0.000324 seconds.\n",
      "You can set `force_row_wise=true` to remove the overhead.\n",
      "And if memory is not enough, you can set `force_col_wise=true`.\n",
      "[LightGBM] [Info] Total Bins 1095\n",
      "[LightGBM] [Info] Number of data points in the train set: 56250, number of used features: 8\n",
      "[LightGBM] [Info] [binary:BoostFromScore]: pavg=0.190756 -> initscore=-1.445108\n",
      "[LightGBM] [Info] Start training from score -1.445108\n"
     ]
    },
    {
     "name": "stderr",
     "output_type": "stream",
     "text": [
      "[I 2024-10-24 01:49:08,607] Trial 5 finished with value: 0.1236333371731704 and parameters: {'num_leaves': 15, 'n_estimators': 433}. Best is trial 0 with value: 0.1236333371731704.\n"
     ]
    },
    {
     "name": "stdout",
     "output_type": "stream",
     "text": [
      "[LightGBM] [Info] Number of positive: 10730, number of negative: 45520\n",
      "[LightGBM] [Info] Auto-choosing row-wise multi-threading, the overhead of testing was 0.000518 seconds.\n",
      "You can set `force_row_wise=true` to remove the overhead.\n",
      "And if memory is not enough, you can set `force_col_wise=true`.\n",
      "[LightGBM] [Info] Total Bins 1095\n",
      "[LightGBM] [Info] Number of data points in the train set: 56250, number of used features: 8\n",
      "[LightGBM] [Info] [binary:BoostFromScore]: pavg=0.190756 -> initscore=-1.445108\n",
      "[LightGBM] [Info] Start training from score -1.445108\n"
     ]
    },
    {
     "name": "stderr",
     "output_type": "stream",
     "text": [
      "[I 2024-10-24 01:49:11,676] Trial 6 finished with value: 0.1236333371731704 and parameters: {'num_leaves': 91, 'n_estimators': 645}. Best is trial 0 with value: 0.1236333371731704.\n"
     ]
    },
    {
     "name": "stdout",
     "output_type": "stream",
     "text": [
      "[LightGBM] [Info] Number of positive: 10730, number of negative: 45520\n",
      "[LightGBM] [Info] Auto-choosing row-wise multi-threading, the overhead of testing was 0.000640 seconds.\n",
      "You can set `force_row_wise=true` to remove the overhead.\n",
      "And if memory is not enough, you can set `force_col_wise=true`.\n",
      "[LightGBM] [Info] Total Bins 1095\n",
      "[LightGBM] [Info] Number of data points in the train set: 56250, number of used features: 8\n",
      "[LightGBM] [Info] [binary:BoostFromScore]: pavg=0.190756 -> initscore=-1.445108\n",
      "[LightGBM] [Info] Start training from score -1.445108\n"
     ]
    },
    {
     "name": "stderr",
     "output_type": "stream",
     "text": [
      "[I 2024-10-24 01:49:15,923] Trial 7 finished with value: 0.1236333371731704 and parameters: {'num_leaves': 84, 'n_estimators': 911}. Best is trial 0 with value: 0.1236333371731704.\n"
     ]
    },
    {
     "name": "stdout",
     "output_type": "stream",
     "text": [
      "[LightGBM] [Info] Number of positive: 10730, number of negative: 45520\n",
      "[LightGBM] [Info] Auto-choosing row-wise multi-threading, the overhead of testing was 0.000429 seconds.\n",
      "You can set `force_row_wise=true` to remove the overhead.\n",
      "And if memory is not enough, you can set `force_col_wise=true`.\n",
      "[LightGBM] [Info] Total Bins 1095\n",
      "[LightGBM] [Info] Number of data points in the train set: 56250, number of used features: 8\n",
      "[LightGBM] [Info] [binary:BoostFromScore]: pavg=0.190756 -> initscore=-1.445108\n",
      "[LightGBM] [Info] Start training from score -1.445108\n"
     ]
    },
    {
     "name": "stderr",
     "output_type": "stream",
     "text": [
      "[I 2024-10-24 01:49:18,847] Trial 8 finished with value: 0.1236333371731704 and parameters: {'num_leaves': 84, 'n_estimators': 672}. Best is trial 0 with value: 0.1236333371731704.\n"
     ]
    },
    {
     "name": "stdout",
     "output_type": "stream",
     "text": [
      "[LightGBM] [Info] Number of positive: 10730, number of negative: 45520\n",
      "[LightGBM] [Info] Auto-choosing row-wise multi-threading, the overhead of testing was 0.000597 seconds.\n",
      "You can set `force_row_wise=true` to remove the overhead.\n",
      "And if memory is not enough, you can set `force_col_wise=true`.\n",
      "[LightGBM] [Info] Total Bins 1095\n",
      "[LightGBM] [Info] Number of data points in the train set: 56250, number of used features: 8\n",
      "[LightGBM] [Info] [binary:BoostFromScore]: pavg=0.190756 -> initscore=-1.445108\n",
      "[LightGBM] [Info] Start training from score -1.445108\n"
     ]
    },
    {
     "name": "stderr",
     "output_type": "stream",
     "text": [
      "[I 2024-10-24 01:49:20,492] Trial 9 finished with value: 0.1236333371731704 and parameters: {'num_leaves': 54, 'n_estimators': 567}. Best is trial 0 with value: 0.1236333371731704.\n"
     ]
    },
    {
     "name": "stdout",
     "output_type": "stream",
     "text": [
      "[LightGBM] [Info] Number of positive: 10730, number of negative: 45520\n",
      "[LightGBM] [Info] Auto-choosing row-wise multi-threading, the overhead of testing was 0.000615 seconds.\n",
      "You can set `force_row_wise=true` to remove the overhead.\n",
      "And if memory is not enough, you can set `force_col_wise=true`.\n",
      "[LightGBM] [Info] Total Bins 1095\n",
      "[LightGBM] [Info] Number of data points in the train set: 56250, number of used features: 8\n",
      "[LightGBM] [Info] [binary:BoostFromScore]: pavg=0.190756 -> initscore=-1.445108\n",
      "[LightGBM] [Info] Start training from score -1.445108\n"
     ]
    },
    {
     "name": "stderr",
     "output_type": "stream",
     "text": [
      "[I 2024-10-24 01:49:21,419] Trial 10 finished with value: 0.1236333371731704 and parameters: {'num_leaves': 55, 'n_estimators': 276}. Best is trial 0 with value: 0.1236333371731704.\n"
     ]
    },
    {
     "name": "stdout",
     "output_type": "stream",
     "text": [
      "[LightGBM] [Info] Number of positive: 10730, number of negative: 45520\n",
      "[LightGBM] [Info] Auto-choosing row-wise multi-threading, the overhead of testing was 0.000478 seconds.\n",
      "You can set `force_row_wise=true` to remove the overhead.\n",
      "And if memory is not enough, you can set `force_col_wise=true`.\n",
      "[LightGBM] [Info] Total Bins 1095\n",
      "[LightGBM] [Info] Number of data points in the train set: 56250, number of used features: 8\n",
      "[LightGBM] [Info] [binary:BoostFromScore]: pavg=0.190756 -> initscore=-1.445108\n",
      "[LightGBM] [Info] Start training from score -1.445108\n"
     ]
    },
    {
     "name": "stderr",
     "output_type": "stream",
     "text": [
      "[I 2024-10-24 01:49:23,368] Trial 11 finished with value: 0.1236333371731704 and parameters: {'num_leaves': 34, 'n_estimators': 852}. Best is trial 0 with value: 0.1236333371731704.\n"
     ]
    },
    {
     "name": "stdout",
     "output_type": "stream",
     "text": [
      "[LightGBM] [Info] Number of positive: 10730, number of negative: 45520\n",
      "[LightGBM] [Info] Auto-choosing row-wise multi-threading, the overhead of testing was 0.000558 seconds.\n",
      "You can set `force_row_wise=true` to remove the overhead.\n",
      "And if memory is not enough, you can set `force_col_wise=true`.\n",
      "[LightGBM] [Info] Total Bins 1095\n",
      "[LightGBM] [Info] Number of data points in the train set: 56250, number of used features: 8\n",
      "[LightGBM] [Info] [binary:BoostFromScore]: pavg=0.190756 -> initscore=-1.445108\n",
      "[LightGBM] [Info] Start training from score -1.445108\n"
     ]
    },
    {
     "name": "stderr",
     "output_type": "stream",
     "text": [
      "[I 2024-10-24 01:49:25,929] Trial 12 finished with value: 0.1236333371731704 and parameters: {'num_leaves': 36, 'n_estimators': 792}. Best is trial 0 with value: 0.1236333371731704.\n"
     ]
    },
    {
     "name": "stdout",
     "output_type": "stream",
     "text": [
      "[LightGBM] [Info] Number of positive: 10730, number of negative: 45520\n",
      "[LightGBM] [Info] Auto-choosing col-wise multi-threading, the overhead of testing was 0.001402 seconds.\n",
      "You can set `force_col_wise=true` to remove the overhead.\n",
      "[LightGBM] [Info] Total Bins 1095\n",
      "[LightGBM] [Info] Number of data points in the train set: 56250, number of used features: 8\n",
      "[LightGBM] [Info] [binary:BoostFromScore]: pavg=0.190756 -> initscore=-1.445108\n",
      "[LightGBM] [Info] Start training from score -1.445108\n"
     ]
    },
    {
     "name": "stderr",
     "output_type": "stream",
     "text": [
      "[I 2024-10-24 01:49:29,224] Trial 13 finished with value: 0.1236333371731704 and parameters: {'num_leaves': 69, 'n_estimators': 996}. Best is trial 0 with value: 0.1236333371731704.\n"
     ]
    },
    {
     "name": "stdout",
     "output_type": "stream",
     "text": [
      "[LightGBM] [Info] Number of positive: 10730, number of negative: 45520\n",
      "[LightGBM] [Info] Auto-choosing row-wise multi-threading, the overhead of testing was 0.000577 seconds.\n",
      "You can set `force_row_wise=true` to remove the overhead.\n",
      "And if memory is not enough, you can set `force_col_wise=true`.\n",
      "[LightGBM] [Info] Total Bins 1095\n",
      "[LightGBM] [Info] Number of data points in the train set: 56250, number of used features: 8\n",
      "[LightGBM] [Info] [binary:BoostFromScore]: pavg=0.190756 -> initscore=-1.445108\n",
      "[LightGBM] [Info] Start training from score -1.445108\n"
     ]
    },
    {
     "name": "stderr",
     "output_type": "stream",
     "text": [
      "[I 2024-10-24 01:49:30,207] Trial 14 finished with value: 0.1236333371731704 and parameters: {'num_leaves': 25, 'n_estimators': 437}. Best is trial 0 with value: 0.1236333371731704.\n"
     ]
    },
    {
     "name": "stdout",
     "output_type": "stream",
     "text": [
      "[LightGBM] [Info] Number of positive: 10730, number of negative: 45520\n",
      "[LightGBM] [Info] Auto-choosing row-wise multi-threading, the overhead of testing was 0.000371 seconds.\n",
      "You can set `force_row_wise=true` to remove the overhead.\n",
      "And if memory is not enough, you can set `force_col_wise=true`.\n",
      "[LightGBM] [Info] Total Bins 1095\n",
      "[LightGBM] [Info] Number of data points in the train set: 56250, number of used features: 8\n",
      "[LightGBM] [Info] [binary:BoostFromScore]: pavg=0.190756 -> initscore=-1.445108\n",
      "[LightGBM] [Info] Start training from score -1.445108\n"
     ]
    },
    {
     "name": "stderr",
     "output_type": "stream",
     "text": [
      "[I 2024-10-24 01:49:33,117] Trial 15 finished with value: 0.1236333371731704 and parameters: {'num_leaves': 68, 'n_estimators': 751}. Best is trial 0 with value: 0.1236333371731704.\n"
     ]
    },
    {
     "name": "stdout",
     "output_type": "stream",
     "text": [
      "[LightGBM] [Info] Number of positive: 10730, number of negative: 45520\n",
      "[LightGBM] [Info] Auto-choosing col-wise multi-threading, the overhead of testing was 0.001387 seconds.\n",
      "You can set `force_col_wise=true` to remove the overhead.\n",
      "[LightGBM] [Info] Total Bins 1095\n",
      "[LightGBM] [Info] Number of data points in the train set: 56250, number of used features: 8\n",
      "[LightGBM] [Info] [binary:BoostFromScore]: pavg=0.190756 -> initscore=-1.445108\n",
      "[LightGBM] [Info] Start training from score -1.445108\n"
     ]
    },
    {
     "name": "stderr",
     "output_type": "stream",
     "text": [
      "[I 2024-10-24 01:49:34,978] Trial 16 finished with value: 0.1236333371731704 and parameters: {'num_leaves': 44, 'n_estimators': 473}. Best is trial 0 with value: 0.1236333371731704.\n"
     ]
    },
    {
     "name": "stdout",
     "output_type": "stream",
     "text": [
      "[LightGBM] [Info] Number of positive: 10730, number of negative: 45520\n",
      "[LightGBM] [Info] Auto-choosing col-wise multi-threading, the overhead of testing was 0.001961 seconds.\n",
      "You can set `force_col_wise=true` to remove the overhead.\n",
      "[LightGBM] [Info] Total Bins 1095\n",
      "[LightGBM] [Info] Number of data points in the train set: 56250, number of used features: 8\n",
      "[LightGBM] [Info] [binary:BoostFromScore]: pavg=0.190756 -> initscore=-1.445108\n",
      "[LightGBM] [Info] Start training from score -1.445108\n"
     ]
    },
    {
     "name": "stderr",
     "output_type": "stream",
     "text": [
      "[I 2024-10-24 01:49:35,212] Trial 17 finished with value: 0.1236333371731704 and parameters: {'num_leaves': 47, 'n_estimators': 31}. Best is trial 0 with value: 0.1236333371731704.\n"
     ]
    },
    {
     "name": "stdout",
     "output_type": "stream",
     "text": [
      "[LightGBM] [Info] Number of positive: 10730, number of negative: 45520\n",
      "[LightGBM] [Info] Auto-choosing row-wise multi-threading, the overhead of testing was 0.000354 seconds.\n",
      "You can set `force_row_wise=true` to remove the overhead.\n",
      "And if memory is not enough, you can set `force_col_wise=true`.\n",
      "[LightGBM] [Info] Total Bins 1095\n",
      "[LightGBM] [Info] Number of data points in the train set: 56250, number of used features: 8\n",
      "[LightGBM] [Info] [binary:BoostFromScore]: pavg=0.190756 -> initscore=-1.445108\n",
      "[LightGBM] [Info] Start training from score -1.445108\n"
     ]
    },
    {
     "name": "stderr",
     "output_type": "stream",
     "text": [
      "[I 2024-10-24 01:49:36,050] Trial 18 finished with value: 0.1236333371731704 and parameters: {'num_leaves': 24, 'n_estimators': 334}. Best is trial 0 with value: 0.1236333371731704.\n"
     ]
    },
    {
     "name": "stdout",
     "output_type": "stream",
     "text": [
      "[LightGBM] [Info] Number of positive: 10730, number of negative: 45520\n",
      "[LightGBM] [Info] Auto-choosing col-wise multi-threading, the overhead of testing was 0.001240 seconds.\n",
      "You can set `force_col_wise=true` to remove the overhead.\n",
      "[LightGBM] [Info] Total Bins 1095\n",
      "[LightGBM] [Info] Number of data points in the train set: 56250, number of used features: 8\n",
      "[LightGBM] [Info] [binary:BoostFromScore]: pavg=0.190756 -> initscore=-1.445108\n",
      "[LightGBM] [Info] Start training from score -1.445108\n"
     ]
    },
    {
     "name": "stderr",
     "output_type": "stream",
     "text": [
      "[I 2024-10-24 01:49:38,711] Trial 19 finished with value: 0.1236333371731704 and parameters: {'num_leaves': 75, 'n_estimators': 553}. Best is trial 0 with value: 0.1236333371731704.\n"
     ]
    },
    {
     "name": "stdout",
     "output_type": "stream",
     "text": [
      "[LightGBM] [Info] Number of positive: 10730, number of negative: 45520\n",
      "[LightGBM] [Info] Auto-choosing col-wise multi-threading, the overhead of testing was 0.001134 seconds.\n",
      "You can set `force_col_wise=true` to remove the overhead.\n",
      "[LightGBM] [Info] Total Bins 1095\n",
      "[LightGBM] [Info] Number of data points in the train set: 56250, number of used features: 8\n",
      "[LightGBM] [Info] [binary:BoostFromScore]: pavg=0.190756 -> initscore=-1.445108\n",
      "[LightGBM] [Info] Start training from score -1.445108\n"
     ]
    },
    {
     "name": "stderr",
     "output_type": "stream",
     "text": [
      "[I 2024-10-24 01:49:39,576] Trial 20 finished with value: 0.1236333371731704 and parameters: {'num_leaves': 60, 'n_estimators': 189}. Best is trial 0 with value: 0.1236333371731704.\n"
     ]
    },
    {
     "name": "stdout",
     "output_type": "stream",
     "text": [
      "[LightGBM] [Info] Number of positive: 10730, number of negative: 45520\n",
      "[LightGBM] [Info] Auto-choosing row-wise multi-threading, the overhead of testing was 0.000433 seconds.\n",
      "You can set `force_row_wise=true` to remove the overhead.\n",
      "And if memory is not enough, you can set `force_col_wise=true`.\n",
      "[LightGBM] [Info] Total Bins 1095\n",
      "[LightGBM] [Info] Number of data points in the train set: 56250, number of used features: 8\n",
      "[LightGBM] [Info] [binary:BoostFromScore]: pavg=0.190756 -> initscore=-1.445108\n",
      "[LightGBM] [Info] Start training from score -1.445108\n"
     ]
    },
    {
     "name": "stderr",
     "output_type": "stream",
     "text": [
      "[I 2024-10-24 01:49:39,810] Trial 21 finished with value: 0.1236333371731704 and parameters: {'num_leaves': 13, 'n_estimators': 77}. Best is trial 0 with value: 0.1236333371731704.\n"
     ]
    },
    {
     "name": "stdout",
     "output_type": "stream",
     "text": [
      "[LightGBM] [Info] Number of positive: 10730, number of negative: 45520\n",
      "[LightGBM] [Info] Auto-choosing row-wise multi-threading, the overhead of testing was 0.000482 seconds.\n",
      "You can set `force_row_wise=true` to remove the overhead.\n",
      "And if memory is not enough, you can set `force_col_wise=true`.\n",
      "[LightGBM] [Info] Total Bins 1095\n",
      "[LightGBM] [Info] Number of data points in the train set: 56250, number of used features: 8\n",
      "[LightGBM] [Info] [binary:BoostFromScore]: pavg=0.190756 -> initscore=-1.445108\n",
      "[LightGBM] [Info] Start training from score -1.445108\n"
     ]
    },
    {
     "name": "stderr",
     "output_type": "stream",
     "text": [
      "[I 2024-10-24 01:49:40,471] Trial 22 finished with value: 0.1236333371731704 and parameters: {'num_leaves': 20, 'n_estimators': 166}. Best is trial 0 with value: 0.1236333371731704.\n"
     ]
    },
    {
     "name": "stdout",
     "output_type": "stream",
     "text": [
      "[LightGBM] [Info] Number of positive: 10730, number of negative: 45520\n",
      "[LightGBM] [Info] Auto-choosing col-wise multi-threading, the overhead of testing was 0.001263 seconds.\n",
      "You can set `force_col_wise=true` to remove the overhead.\n",
      "[LightGBM] [Info] Total Bins 1095\n",
      "[LightGBM] [Info] Number of data points in the train set: 56250, number of used features: 8\n",
      "[LightGBM] [Info] [binary:BoostFromScore]: pavg=0.190756 -> initscore=-1.445108\n",
      "[LightGBM] [Info] Start training from score -1.445108\n"
     ]
    },
    {
     "name": "stderr",
     "output_type": "stream",
     "text": [
      "[I 2024-10-24 01:49:42,119] Trial 23 finished with value: 0.1236333371731704 and parameters: {'num_leaves': 12, 'n_estimators': 752}. Best is trial 0 with value: 0.1236333371731704.\n"
     ]
    },
    {
     "name": "stdout",
     "output_type": "stream",
     "text": [
      "[LightGBM] [Info] Number of positive: 10730, number of negative: 45520\n",
      "[LightGBM] [Info] Auto-choosing row-wise multi-threading, the overhead of testing was 0.000400 seconds.\n",
      "You can set `force_row_wise=true` to remove the overhead.\n",
      "And if memory is not enough, you can set `force_col_wise=true`.\n",
      "[LightGBM] [Info] Total Bins 1095\n",
      "[LightGBM] [Info] Number of data points in the train set: 56250, number of used features: 8\n",
      "[LightGBM] [Info] [binary:BoostFromScore]: pavg=0.190756 -> initscore=-1.445108\n",
      "[LightGBM] [Info] Start training from score -1.445108\n"
     ]
    },
    {
     "name": "stderr",
     "output_type": "stream",
     "text": [
      "[I 2024-10-24 01:49:43,519] Trial 24 finished with value: 0.1236333371731704 and parameters: {'num_leaves': 31, 'n_estimators': 557}. Best is trial 0 with value: 0.1236333371731704.\n"
     ]
    },
    {
     "name": "stdout",
     "output_type": "stream",
     "text": [
      "[LightGBM] [Info] Number of positive: 10730, number of negative: 45520\n",
      "[LightGBM] [Info] Auto-choosing row-wise multi-threading, the overhead of testing was 0.000441 seconds.\n",
      "You can set `force_row_wise=true` to remove the overhead.\n",
      "And if memory is not enough, you can set `force_col_wise=true`.\n",
      "[LightGBM] [Info] Total Bins 1095\n",
      "[LightGBM] [Info] Number of data points in the train set: 56250, number of used features: 8\n",
      "[LightGBM] [Info] [binary:BoostFromScore]: pavg=0.190756 -> initscore=-1.445108\n",
      "[LightGBM] [Info] Start training from score -1.445108\n"
     ]
    },
    {
     "name": "stderr",
     "output_type": "stream",
     "text": [
      "[I 2024-10-24 01:49:45,968] Trial 25 finished with value: 0.1236333371731704 and parameters: {'num_leaves': 99, 'n_estimators': 383}. Best is trial 0 with value: 0.1236333371731704.\n"
     ]
    },
    {
     "name": "stdout",
     "output_type": "stream",
     "text": [
      "[LightGBM] [Info] Number of positive: 10730, number of negative: 45520\n",
      "[LightGBM] [Info] Auto-choosing row-wise multi-threading, the overhead of testing was 0.000539 seconds.\n",
      "You can set `force_row_wise=true` to remove the overhead.\n",
      "And if memory is not enough, you can set `force_col_wise=true`.\n",
      "[LightGBM] [Info] Total Bins 1095\n",
      "[LightGBM] [Info] Number of data points in the train set: 56250, number of used features: 8\n",
      "[LightGBM] [Info] [binary:BoostFromScore]: pavg=0.190756 -> initscore=-1.445108\n",
      "[LightGBM] [Info] Start training from score -1.445108\n"
     ]
    },
    {
     "name": "stderr",
     "output_type": "stream",
     "text": [
      "[I 2024-10-24 01:49:46,820] Trial 26 finished with value: 0.1236333371731704 and parameters: {'num_leaves': 44, 'n_estimators': 223}. Best is trial 0 with value: 0.1236333371731704.\n"
     ]
    },
    {
     "name": "stdout",
     "output_type": "stream",
     "text": [
      "[LightGBM] [Info] Number of positive: 10730, number of negative: 45520\n",
      "[LightGBM] [Info] Auto-choosing col-wise multi-threading, the overhead of testing was 0.001680 seconds.\n",
      "You can set `force_col_wise=true` to remove the overhead.\n",
      "[LightGBM] [Info] Total Bins 1095\n",
      "[LightGBM] [Info] Number of data points in the train set: 56250, number of used features: 8\n",
      "[LightGBM] [Info] [binary:BoostFromScore]: pavg=0.190756 -> initscore=-1.445108\n",
      "[LightGBM] [Info] Start training from score -1.445108\n"
     ]
    },
    {
     "name": "stderr",
     "output_type": "stream",
     "text": [
      "[I 2024-10-24 01:49:47,752] Trial 27 finished with value: 0.1236333371731704 and parameters: {'num_leaves': 10, 'n_estimators': 677}. Best is trial 0 with value: 0.1236333371731704.\n"
     ]
    },
    {
     "name": "stdout",
     "output_type": "stream",
     "text": [
      "[LightGBM] [Info] Number of positive: 10730, number of negative: 45520\n",
      "[LightGBM] [Info] Auto-choosing row-wise multi-threading, the overhead of testing was 0.000398 seconds.\n",
      "You can set `force_row_wise=true` to remove the overhead.\n",
      "And if memory is not enough, you can set `force_col_wise=true`.\n",
      "[LightGBM] [Info] Total Bins 1095\n",
      "[LightGBM] [Info] Number of data points in the train set: 56250, number of used features: 8\n",
      "[LightGBM] [Info] [binary:BoostFromScore]: pavg=0.190756 -> initscore=-1.445108\n",
      "[LightGBM] [Info] Start training from score -1.445108\n"
     ]
    },
    {
     "name": "stderr",
     "output_type": "stream",
     "text": [
      "[I 2024-10-24 01:49:48,581] Trial 28 finished with value: 0.1236333371731704 and parameters: {'num_leaves': 19, 'n_estimators': 528}. Best is trial 0 with value: 0.1236333371731704.\n"
     ]
    },
    {
     "name": "stdout",
     "output_type": "stream",
     "text": [
      "[LightGBM] [Info] Number of positive: 10730, number of negative: 45520\n",
      "[LightGBM] [Info] Auto-choosing row-wise multi-threading, the overhead of testing was 0.000325 seconds.\n",
      "You can set `force_row_wise=true` to remove the overhead.\n",
      "And if memory is not enough, you can set `force_col_wise=true`.\n",
      "[LightGBM] [Info] Total Bins 1095\n",
      "[LightGBM] [Info] Number of data points in the train set: 56250, number of used features: 8\n",
      "[LightGBM] [Info] [binary:BoostFromScore]: pavg=0.190756 -> initscore=-1.445108\n",
      "[LightGBM] [Info] Start training from score -1.445108\n"
     ]
    },
    {
     "name": "stderr",
     "output_type": "stream",
     "text": [
      "[I 2024-10-24 01:49:49,755] Trial 29 finished with value: 0.1236333371731704 and parameters: {'num_leaves': 29, 'n_estimators': 622}. Best is trial 0 with value: 0.1236333371731704.\n"
     ]
    },
    {
     "data": {
      "text/plain": [
       "{'num_leaves': 59, 'n_estimators': 532}"
      ]
     },
     "execution_count": 60,
     "metadata": {},
     "output_type": "execute_result"
    }
   ],
   "source": [
    "def object(trial):\n",
    "    num_leaves=trial.suggest_int('num_leaves',10,100)\n",
    "    n_estimators=trial.suggest_int('n_estimators',10,1000)\n",
    "    \n",
    "    lgbm = LGBMClassifier(num_leaves=num_leaves,n_estimators=n_estimators)\n",
    "    lgbm.fit(Xtrain_new,ytrain_new )\n",
    "   \n",
    "    y_pred=model.predict(Xval)\n",
    "    y_pred_proba=model.predict_proba(Xval)\n",
    "    y_pred_proba=y_pred_proba[:,0]\n",
    "    \n",
    "    score=roc_auc_score(yval , y_pred_proba)\n",
    "\n",
    "    return score\n",
    "\n",
    "study=optuna.create_study(direction='maximize')\n",
    "study.optimize(object,n_trials=30)  \n",
    "study.best_params"
   ]
  },
  {
   "cell_type": "code",
   "execution_count": 61,
   "metadata": {},
   "outputs": [
    {
     "data": {
      "text/plain": [
       "{'num_leaves': 59, 'n_estimators': 532}"
      ]
     },
     "execution_count": 61,
     "metadata": {},
     "output_type": "execute_result"
    }
   ],
   "source": [
    "study.best_params"
   ]
  },
  {
   "cell_type": "markdown",
   "metadata": {
    "id": "VSWz4A5w7mpW"
   },
   "source": [
    "Обучите модель с найденными гиперпараметрами на Xtrain, ytrain и оцените ROC-AUC на тестовых данных."
   ]
  },
  {
   "cell_type": "code",
   "execution_count": 66,
   "metadata": {
    "id": "C2i6MY720D1Y"
   },
   "outputs": [
    {
     "name": "stdout",
     "output_type": "stream",
     "text": [
      "[LightGBM] [Info] Number of positive: 14346, number of negative: 60654\n",
      "[LightGBM] [Info] Auto-choosing row-wise multi-threading, the overhead of testing was 0.000444 seconds.\n",
      "You can set `force_row_wise=true` to remove the overhead.\n",
      "And if memory is not enough, you can set `force_col_wise=true`.\n",
      "[LightGBM] [Info] Total Bins 1095\n",
      "[LightGBM] [Info] Number of data points in the train set: 75000, number of used features: 8\n",
      "[LightGBM] [Info] [binary:BoostFromScore]: pavg=0.191280 -> initscore=-1.441714\n",
      "[LightGBM] [Info] Start training from score -1.441714\n"
     ]
    },
    {
     "data": {
      "text/plain": [
       "0.7672794695374432"
      ]
     },
     "execution_count": 66,
     "metadata": {},
     "output_type": "execute_result"
    }
   ],
   "source": [
    "lgbm = LGBMClassifier()\n",
    "lgbm.fit(Xtrain,ytrain)\n",
    "   \n",
    "y_pred=model.predict(Xtest)\n",
    "y_pred_proba=model.predict_proba(Xtest)\n",
    "y_pred_proba=y_pred_proba[:,1]\n",
    "    \n",
    "roc_auc_score(ytest , y_pred_proba)"
   ]
  },
  {
   "cell_type": "markdown",
   "metadata": {
    "id": "bP4nfUCA5gnm"
   },
   "source": [
    "## Quiz\n",
    "\n",
    "Чему равно количество деревьев в LGBM после подбора гиперпараметров?"
   ]
  },
  {
   "cell_type": "markdown",
   "metadata": {
    "id": "pPVSkXK76b17"
   },
   "source": [
    "## Работа над улучшением модели\n",
    "\n",
    "* Попробуйте при помощи Optuna подобрать и другие гиперпарамтеры\n",
    "* Также подберите гиперпараметры у CatBoost (а не только у LightGBM)"
   ]
  },
  {
   "cell_type": "code",
   "execution_count": null,
   "metadata": {
    "id": "NTjHyWL-6lm-"
   },
   "outputs": [],
   "source": [
    "# your code here"
   ]
  },
  {
   "cell_type": "markdown",
   "metadata": {
    "id": "3kJk1Czm6nJg"
   },
   "source": [
    "## Quiz\n",
    "\n",
    "Поделитесь своими результатами!"
   ]
  }
 ],
 "metadata": {
  "colab": {
   "provenance": []
  },
  "kernelspec": {
   "display_name": "Python 3 (ipykernel)",
   "language": "python",
   "name": "python3"
  },
  "language_info": {
   "codemirror_mode": {
    "name": "ipython",
    "version": 3
   },
   "file_extension": ".py",
   "mimetype": "text/x-python",
   "name": "python",
   "nbconvert_exporter": "python",
   "pygments_lexer": "ipython3",
   "version": "3.11.7"
  }
 },
 "nbformat": 4,
 "nbformat_minor": 4
}
